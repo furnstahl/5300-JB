{
 "cells": [
  {
   "cell_type": "markdown",
   "metadata": {},
   "source": [
    "##  Taylor problem 5.2\n",
    "\n",
    "last revised: 14-Jan-2019 by Dick Furnstahl [furnstahl.1@osu.edu]\n"
   ]
  },
  {
   "cell_type": "markdown",
   "metadata": {},
   "source": [
    "The potential energy for two atoms in a molecule can sometimes be approximated by the Morse function\n",
    "\n",
    "$\\begin{align}\n",
    "  U(r) = A\\left[ \\left(e^{(R-r)/S} -1\\right)^2 -1 \\right]\n",
    "\\end{align}$\n",
    "\n",
    "for $0 < r < \\infty$ with $A$, $R$, and $S$ all positive constants and $S \\ll R$.\n",
    "\n",
    "The goals are to find the equilibrium position $r_0$ and then the frequency of small oscillations."
   ]
  },
  {
   "cell_type": "markdown",
   "metadata": {},
   "source": [
    "Take the derivative and solve for the equilibrium $r_0$:\n",
    "\n",
    "$\\begin{align}\n",
    " \\frac{dU}{dr} = 2A\\left(e^{(R-r)/S} -1\\right)\\times e^{(R-r)/S} \\times \\frac{-1}{S} = 0\n",
    " \\quad\\Longrightarrow\\quad\n",
    " r_0 = R\n",
    "  \\quad\\Longrightarrow\\quad\n",
    " U(r_0) = -A\n",
    "\\end{align}$"
   ]
  },
  {
   "cell_type": "markdown",
   "metadata": {},
   "source": [
    "Expand around $r = r_0$ up to $(r - r_0)^2$ to find the small angle approximation equation and frequency:\n",
    "\n",
    "$\\begin{align}\n",
    "U_{sa}(r) = A + \\frac{A}{S^2} (r - r_0)^2\n",
    " \\quad\\Longrightarrow\\quad\n",
    " k = \\frac{2 A}{S^2}\n",
    " \\quad\\Longrightarrow\\quad\n",
    " \\omega = \\sqrt{k/m} = \\sqrt{\\frac{2 A}{ m S^2}}\n",
    "\\end{align}$"
   ]
  },
  {
   "cell_type": "markdown",
   "metadata": {},
   "source": [
    "## Make a plot to check $r_0$"
   ]
  },
  {
   "cell_type": "code",
   "execution_count": null,
   "metadata": {},
   "outputs": [],
   "source": [
    "%matplotlib notebook   \n",
    "# Use notebook rather than inline so plot remains active between\n",
    "#  cells and so we can zoom in."
   ]
  },
  {
   "cell_type": "code",
   "execution_count": null,
   "metadata": {},
   "outputs": [],
   "source": [
    "import numpy as np\n",
    "\n",
    "import matplotlib.pyplot as plt"
   ]
  },
  {
   "cell_type": "code",
   "execution_count": null,
   "metadata": {},
   "outputs": [],
   "source": [
    "def U_pot(r, S=0.1, big_R=1, A=1):\n",
    "    \"\"\"Potential from Taylor problem 5.13.\"\"\"\n",
    "    return A * ( (np.exp((big_R - r)/S) - 1.)**2 - 1. )\n",
    "\n",
    "def U_pot_min(S=0.1, big_R=1, A=1):\n",
    "    \"\"\"Returns the value of r at the minimum of U(r) and the value of\n",
    "       U(r) at that point.\"\"\"\n",
    "    return big_R,  -A"
   ]
  },
  {
   "cell_type": "code",
   "execution_count": null,
   "metadata": {},
   "outputs": [],
   "source": [
    "def U_pot_sa(r, S=0.1, big_R=1, A=1):\n",
    "    \"\"\"Plot the potential in the small angle approximation\"\"\"\n",
    "    r0 = big_R\n",
    "    return  -A + A * (r - r0)**2 / S**2 \n"
   ]
  },
  {
   "cell_type": "code",
   "execution_count": null,
   "metadata": {},
   "outputs": [],
   "source": [
    "r_pts = np.arange(0.01, 6., .001)\n",
    "U_pot_1 = U_pot(r_pts, S=0.2)\n",
    "U_pot_2 = U_pot(r_pts, S=0.5)\n",
    "#U_pot_3 = U_pot(r_pts, S=0.3)\n",
    "\n",
    "fig = plt.figure(figsize=(4,4))\n",
    "ax = fig.add_subplot(1,1,1)\n",
    "ax.plot(r_pts, U_pot_1, label=r'$S=0.2$', color='blue')\n",
    "ax.plot(r_pts, U_pot_2, label=r'$S=0.5$', color='red')\n",
    "#ax.plot(r_pts, U_pot_3, label=r'$S=0.3$', color='green')\n",
    "\n",
    "ax.set_xlim(0.,2.5)\n",
    "ax.set_ylim(-2.,5.)\n",
    "\n",
    "x0, y0 = U_pot_min(S=0.2)\n",
    "ax.scatter(x0, y0, color='blue')\n",
    "x0, y0 = U_pot_min(S=0.5)\n",
    "ax.scatter(x0, y0, color='red')\n",
    "#x0, y0 = U_pot_min(S=0.3)\n",
    "#ax.scatter(x0, y0, color='green')\n",
    "\n",
    "ax.set_xlabel('r')\n",
    "ax.set_ylabel('U(r)')\n",
    "\n",
    "ax.legend()\n",
    "fig.tight_layout()"
   ]
  },
  {
   "cell_type": "markdown",
   "metadata": {},
   "source": [
    "Now put in small angle potentials (note that this changes the figure above, which is still the active figure (because we are using `%matplotlib notebook`).  Use the controls to zoom in to verify that the small-angle approximated $U(r)$ really does agree for $r$ close enough to the minimum.  "
   ]
  },
  {
   "cell_type": "code",
   "execution_count": null,
   "metadata": {},
   "outputs": [],
   "source": [
    "# \"sa\" here stands for \"small-angle\".\n",
    "U_pot_sa_1 = U_pot_sa(r_pts, S=0.2)\n",
    "U_pot_sa_2 = U_pot_sa(r_pts, S=0.5)\n",
    "#U_pot_sa_3 = U_pot_sa(r_pts, S=0.3)\n",
    "ax.plot(r_pts, U_pot_sa_1, color='blue', ls='--')\n",
    "ax.plot(r_pts, U_pot_sa_2, color='red', ls='--')\n",
    "#ax.plot(r_pts, U_pot_sa_3, color='green', ls='--')\n"
   ]
  },
  {
   "cell_type": "markdown",
   "metadata": {},
   "source": [
    "Can we solve for exact and small angle oscillations numerically?"
   ]
  },
  {
   "cell_type": "code",
   "execution_count": null,
   "metadata": {},
   "outputs": [],
   "source": []
  }
 ],
 "metadata": {
  "kernelspec": {
   "display_name": "Python 3",
   "language": "python",
   "name": "python3"
  },
  "language_info": {
   "codemirror_mode": {
    "name": "ipython",
    "version": 3
   },
   "file_extension": ".py",
   "mimetype": "text/x-python",
   "name": "python",
   "nbconvert_exporter": "python",
   "pygments_lexer": "ipython3",
   "version": "3.6.9"
  }
 },
 "nbformat": 4,
 "nbformat_minor": 2
}
