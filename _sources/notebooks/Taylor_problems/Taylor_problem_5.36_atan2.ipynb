{
 "cells": [
  {
   "cell_type": "markdown",
   "metadata": {},
   "source": [
    "#  Taylor problem 5.36 (with Example 5.3 graphs)\n",
    "\n",
    "last revised: 15-Jan-2019 by Dick Furnstahl [furnstahl.1@osu.edu]\n"
   ]
  },
  {
   "cell_type": "markdown",
   "metadata": {},
   "source": [
    "This notebook generates the plots in Example 5.3 in Taylor.  **For problem 5.36, add an additional curve (do not replace the Example 5.3 curve) for the initial conditions in the problem.**"
   ]
  },
  {
   "cell_type": "code",
   "execution_count": 6,
   "metadata": {},
   "outputs": [],
   "source": [
    "%matplotlib inline"
   ]
  },
  {
   "cell_type": "code",
   "execution_count": 7,
   "metadata": {},
   "outputs": [],
   "source": [
    "import numpy as np\n",
    "import matplotlib.pyplot as plt"
   ]
  },
  {
   "cell_type": "code",
   "execution_count": 8,
   "metadata": {},
   "outputs": [],
   "source": [
    "# Maybe this should all be in a class.  How would you do that?\n",
    "\n",
    "def A_eval(omega0, f0, omega, beta):\n",
    "    \"\"\"Amplitude function A for damped, driven oscillator.\"\"\"\n",
    "    return np.sqrt(\n",
    "             f0**2/((omega0**2 - omega**2)**2 + 4. * beta**2 * omega**2)\n",
    "           )\n",
    "\n",
    "def delta_eval(omega0, omega, beta):\n",
    "    \"\"\"Phase function delta for damped, driven oscillator.\"\"\"\n",
    "    return np.arctan(2.*beta*omega/(omega0**2 - omega**2))\n",
    "\n",
    "def delta_eval2(omega0, omega, beta):\n",
    "    \"\"\"Phase function delta for damped, driven oscillator, evaluated\n",
    "        with np.arctan2 to get the quadrant correct.\"\"\"\n",
    "    return np.arctan2(2.*beta*omega, (omega0**2 - omega**2))\n",
    "\n",
    "def B_coeffs(x0, v0, omega0, omega, beta):\n",
    "    \"\"\"B1 and B2 from initial conditions and amplitude and phase functions.\n",
    "        Formulas from Taylor (5.70).\n",
    "    \"\"\"\n",
    "    A = A_eval(omega0, f0, omega, beta)\n",
    "    delta = delta_eval(omega0, omega, beta)\n",
    "    omega1 = np.sqrt(omega0**2 - beta**2)\n",
    "    B1 = x0 - A * np.cos(delta)\n",
    "    B2 = (v0 - omega*A*np.sin(delta) + beta*B1)/omega1\n",
    "    return B1, B2\n",
    "\n",
    "def damped_driven(t, omega0, f0, omega, beta, B1, B2):\n",
    "    \"\"\"Solution to dampled driven harmonic oscillator.\"\"\"\n",
    "    omega1 = np.sqrt(omega0**2 - beta**2)\n",
    "    A = A_eval(omega0, f0, omega, beta)\n",
    "    delta = delta_eval2(omega0, omega, beta)\n",
    "    return A * np.cos(omega*t - delta) + np.exp(-beta*t) * \\\n",
    "           (B1 * np.cos(omega1 * t)  +  B2 * np.sin(omega1 * t))\n",
    "\n",
    "\n",
    "def driving_force(t, f0, omega):\n",
    "    \"\"\"External driving force as a function of time t.\"\"\"\n",
    "    return f0 * np.cos(omega*t)"
   ]
  },
  {
   "cell_type": "code",
   "execution_count": 9,
   "metadata": {},
   "outputs": [
    {
     "name": "stdout",
     "output_type": "stream",
     "text": [
      "A = 1.05520\n",
      "delta = 0.02083\n"
     ]
    }
   ],
   "source": [
    "omega = 2.*np.pi\n",
    "omega0 = 5.*omega\n",
    "beta = omega0/20.\n",
    "f0 = 1000.\n",
    "\n",
    "print(rf'A = {A_eval(omega0, f0, omega, beta):.5f}')\n",
    "print(rf'delta = {delta_eval2(omega0, omega, beta):.5f}')\n"
   ]
  },
  {
   "cell_type": "code",
   "execution_count": null,
   "metadata": {},
   "outputs": [],
   "source": [
    "t_pts = np.arange(0., 5., 0.01)\n",
    "\n",
    "x0 = v0 = 0.\n",
    "B1, B2 = B_coeffs(x0, v0, omega0, omega, beta)\n",
    "#B1 = -1.05\n",
    "#B2 = -0.0572\n",
    "#print(B1, B2)\n",
    "x_pts_1 = damped_driven(t_pts, omega0, f0, omega, beta, B1, B2)\n",
    "\n",
    "### Add the initial conditions for 5.36 and find the B coefficients and\n",
    "###  x_pts_2.\n",
    "\n",
    "fig = plt.figure(figsize=(6,6))\n",
    "\n",
    "ax_drive = fig.add_subplot(2,1,1)  # driving force\n",
    "ax_drive.plot(t_pts, driving_force(t_pts, f0, omega), color='black')\n",
    "ax_drive.set_xlabel('t')\n",
    "ax_drive.set_ylabel('driving force f(t)')\n",
    "\n",
    "ax = fig.add_subplot(2,1,2)\n",
    "ax.plot(t_pts, x_pts_1, color='blue', linestyle='dashed')\n",
    "ax.set_xlabel('t')\n",
    "ax.set_ylabel('x(t)')\n",
    "#ax.set_ylim(-2., 2.)\n",
    "ax.axhline(0., color='black', alpha=0.3)  # light black line for reference\n",
    "### add another curve to ax for the 5.36 conditions (make it red and solid)\n",
    "\n",
    "fig.tight_layout()"
   ]
  },
  {
   "cell_type": "code",
   "execution_count": null,
   "metadata": {},
   "outputs": [],
   "source": []
  }
 ],
 "metadata": {
  "kernelspec": {
   "display_name": "Python 3",
   "language": "python",
   "name": "python3"
  },
  "language_info": {
   "codemirror_mode": {
    "name": "ipython",
    "version": 3
   },
   "file_extension": ".py",
   "mimetype": "text/x-python",
   "name": "python",
   "nbconvert_exporter": "python",
   "pygments_lexer": "ipython3",
   "version": "3.6.9"
  }
 },
 "nbformat": 4,
 "nbformat_minor": 2
}
