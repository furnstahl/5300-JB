{
 "cells": [
  {
   "cell_type": "markdown",
   "metadata": {},
   "source": [
    "#  Taylor problem 5.50 \n",
    "\n",
    "last revised: 21-Jan-2019 by Dick Furnstahl [furnstahl.1@osu.edu]\n"
   ]
  },
  {
   "cell_type": "markdown",
   "metadata": {},
   "source": [
    "Here we are exploring the Fourier series for a waveform defined to be odd about the origin, so $f(-t) = -f(t)$, with period $\\tau$.  That means that the integrand for the $a_m$ coefficients is odd and so all of the corresponding integrals vanish.  \n",
    "\n",
    "The particular wave of interest here is a sawtooth, such that in the interval $-\\tau/2 \\leq t \\leq \\tau/2$, the function takes the form:\n",
    "\n",
    "$\\newcommand{\\fmax}{f_{\\textrm{max}}}$\n",
    "$\\begin{align}\n",
    "  f(t) = \\left\\{ \\begin{array}{ll}\n",
    "                   \\fmax(t/\\tau) & t < 0 \\\\\n",
    "                   \\fmax(t/\\tau) & t > 0  \n",
    "                 \\end{array}\n",
    "                   \\right.\n",
    "\\end{align}$\n",
    "\n",
    "(we wrote it this way so it looks like the function for problem 5.49).\n",
    "\n",
    "\n",
    "As already note, the $a_m$ coefficients are zero, so we only calculate the $b_m$ coefficients.  Here $\\omega \\equiv 2\\pi/\\tau$.  The result is:\n",
    "\n",
    "\n",
    "$\\begin{align}\n",
    "  b_m = \\frac{2}{\\tau} \\int_{-\\tau/2}^{\\tau/2} \\sin(m\\omega t) f(t)\\, dt = \n",
    "     % 2 \\fmax \\int_0^1 \\sin(m\\pi t) t\\, dt \n",
    "    %  &= - \\frac{2\\fmax}{(m\\pi)^2)}\\left[\\sin(m\\pi t)\\right]^1_0 \\\\\n",
    "     % =\n",
    "      \\left\\{ \n",
    "      \\begin{array}{ll}\n",
    "        -\\frac{ \\fmax}{m\\pi} & [m\\ \\mbox{even}] \\\\\n",
    "        \\frac{ \\fmax}{m\\pi} & [m\\ \\mbox{odd}]\n",
    "      \\end{array}\n",
    "      \\right.\n",
    "\\end{align}$\n",
    "\n",
    "Note that the coefficients are independent of $\\tau$.  Is this a general result?"
   ]
  },
  {
   "cell_type": "markdown",
   "metadata": {},
   "source": [
    "## Define the functions we'll need"
   ]
  },
  {
   "cell_type": "code",
   "execution_count": 1,
   "metadata": {},
   "outputs": [],
   "source": [
    "import numpy as np\n",
    "import matplotlib.pyplot as plt\n",
    "from scipy.integrate import quad"
   ]
  },
  {
   "cell_type": "markdown",
   "metadata": {},
   "source": [
    "We start by defining a function for the sawtooth wave at any $t$.  The definition here is for a scalar function.  That is, it won't work to call it with $t$ and array of time points, unlike other functions we have defined.  It is possible to make it work, but then the function will be much less clear.  When we need to evaluate it for all elements of an array, we will use the construction: `np.array([sawtooth(t) for t in t_pts])` for the array `t_pts`."
   ]
  },
  {
   "cell_type": "code",
   "execution_count": 2,
   "metadata": {},
   "outputs": [],
   "source": [
    "def sawtooth(t, tau, f_max=1):\n",
    "    \"\"\"Returns the sawtooth wave of amplitude f_max and odd about the \n",
    "        origin at time t.  The period is tau.  It is defined as a scalar \n",
    "        function (i.e., only one value of t can be passed at a time).  \n",
    "    \"\"\"\n",
    "    if np.floor(t) % 2 == 0:\n",
    "        t_adjust = t - np.floor(t)\n",
    "        return t_adjust / tau\n",
    "    else:\n",
    "        t_adjust = t - (np.floor(t) + 1)\n",
    "        return t_adjust / tau\n",
    "    "
   ]
  },
  {
   "cell_type": "markdown",
   "metadata": {},
   "source": [
    "Now a function that creates an array of Fourier coefficients for the sawtooth wave up to order N_max."
   ]
  },
  {
   "cell_type": "code",
   "execution_count": 3,
   "metadata": {},
   "outputs": [],
   "source": [
    "def sawtooth_coeffs_by_hand(N_max, tau=2., f_max=1.):\n",
    "    \"\"\"Fourier coefficients calculated by hand and loaded into an array.\n",
    "        Note that these are independent of tau, but we pass it for \n",
    "        consistency with other functions.\n",
    "    \"\"\"\n",
    "    coeffs_array = [(0., 0.)]   # a_0 and b_0\n",
    "    for n in np.arange(1, N_max, 1):\n",
    "        if (n % 2) == 0:    # for even n\n",
    "            b_n = -f_max / (n * np.pi)\n",
    "        else:          # for odd n \n",
    "            b_n = f_max / (n * np.pi)\n",
    "        a_n = 0.\n",
    "        coeffs_array.append((a_n, b_n))\n",
    "    \n",
    "    return np.array(coeffs_array)  # convert to a numpy array"
   ]
  },
  {
   "cell_type": "markdown",
   "metadata": {},
   "source": [
    "We would like a general way to construct the away of Fourier coefficients given any periodic function.  Our first pass at that uses a class definition and the scipy integration function quad. "
   ]
  },
  {
   "cell_type": "code",
   "execution_count": 4,
   "metadata": {},
   "outputs": [],
   "source": [
    "class FourierSeries():\n",
    "    \"\"\"\n",
    "    Fourier series class finds the coefficients in a Fourier series with\n",
    "    period tau up to a specified order.\n",
    "    Assume these imports:\n",
    "        from scipy.integrate import quad\n",
    "        import numpy as np\n",
    "    \"\"\"\n",
    "    def __init__(self,\n",
    "                 function,\n",
    "                 tau=2,\n",
    "                 N_max=10\n",
    "                ):\n",
    "        self.function = function\n",
    "        self.tau = tau\n",
    "        self.omega = 2. * np.pi / tau    \n",
    "        self.N_max = N_max\n",
    "        # add something to quit if Nmax < 0 or not an integer (try and except)\n",
    "\n",
    "    def a0_calc(self):\n",
    "        \"\"\"Calculate the constant Fourier coefficient by integration\"\"\"\n",
    "        answer, error = quad(self.function, -tau/2., tau/2., args=(tau,))\n",
    "        return (1./self.tau) * answer\n",
    "    \n",
    "    def an_integrand(self, t, n):\n",
    "        \"\"\"Integrand for the nth cosine coefficient\"\"\"\n",
    "        return self.function(t, tau) * np.cos(n * self.omega * t)\n",
    "    \n",
    "    def an_calc(self, n):\n",
    "        \"\"\"Calculate the nth cosine coefficient (n > 0)\"\"\"\n",
    "        # note comma after n in args\n",
    "        answer, error = quad(self.an_integrand, -tau/2., tau/2., args=(n,))  \n",
    "        return (2./self.tau) * answer\n",
    "    \n",
    "    def bn_integrand(self, t, n):\n",
    "        \"\"\"Integrand for the nth cosine coefficient\"\"\"\n",
    "        return self.function(t, tau) * np.sin(n * self.omega * t)\n",
    "    \n",
    "    def bn_calc(self, n):\n",
    "        \"\"\"Calculate the nth cosine coefficient (n > 0)\"\"\"\n",
    "        answer, error = quad(self.bn_integrand, -tau/2., tau/2., args=(n,))  \n",
    "        return (2./self.tau) * answer\n",
    "        \n",
    "    def coeffs_upto_Nmax(self):\n",
    "        \"\"\"Calculate the Fourier series up to Nmax\"\"\"\n",
    "        # first generate the coefficient\n",
    "        coeffs_array = [(self.a0_calc(), 0)]   # a_0 and b_0\n",
    "        \n",
    "        for n in np.arange(1, N_max, 1):\n",
    "            a_n = self.an_calc(n)\n",
    "            b_n = self.bn_calc(n)\n",
    "            coeffs_array.append((a_n, b_n))  # append a tuple of coefficients\n",
    "    \n",
    "        return np.array(coeffs_array)  # convert to a numpy array  \n",
    "    "
   ]
  },
  {
   "cell_type": "markdown",
   "metadata": {},
   "source": [
    "Finally, we need a function that can take as input an array of t values and an array of Fourier coefficients and return the function at those t values with terms up to order N_max. "
   ]
  },
  {
   "cell_type": "code",
   "execution_count": 5,
   "metadata": {},
   "outputs": [],
   "source": [
    "\n",
    "def Fourier_reconstruct(t_pts, coeffs_array, tau, N_max):\n",
    "    \"\"\"Sum up the Fourier series up to n = N_max terms.\"\"\"\n",
    "    omega = 2. * np.pi / tau\n",
    "    result = 0.\n",
    "    # iterate over coefficients but only up to N_max\n",
    "    for n, (a,b) in enumerate(coeffs_array[:N_max+1]):  \n",
    "        result = result + a * np.cos(n * omega * t_pts) \\\n",
    "                        + b * np.sin(n * omega * t_pts)\n",
    "    return result    "
   ]
  },
  {
   "cell_type": "markdown",
   "metadata": {},
   "source": [
    "## Problem 5.50\n",
    "\n",
    "Ok, now we can do problem 5.49.  Calculate the coefficients both ways."
   ]
  },
  {
   "cell_type": "code",
   "execution_count": 6,
   "metadata": {},
   "outputs": [],
   "source": [
    "N_max = 20\n",
    "tau = 2.\n",
    "f_max = 1.\n",
    "coeffs_by_hand = sawtooth_coeffs_by_hand(N_max, tau, f_max)\n",
    "\n",
    "fs = FourierSeries(sawtooth, tau, N_max)\n",
    "coeffs_by_quad = fs.coeffs_upto_Nmax()"
   ]
  },
  {
   "cell_type": "markdown",
   "metadata": {},
   "source": [
    "Let's check that the exact and numerical calculation of the coefficients agree.  \n",
    "\n",
    "(Note the space in the formats, e.g., `{a1: .6f}`.  This means to leave an extra space for a positive number so that it aligns at the decimal point with negative numbers.)"
   ]
  },
  {
   "cell_type": "code",
   "execution_count": 7,
   "metadata": {},
   "outputs": [
    {
     "name": "stdout",
     "output_type": "stream",
     "text": [
      " n   a_exact     a_quad      b_exact     b_quad\n",
      " 0   0.000000   0.000000     0.000000   0.000000\n",
      " 1   0.000000   0.000000     0.318310   0.318310\n",
      " 2   0.000000   0.000000    -0.159155  -0.159155\n",
      " 3   0.000000   0.000000     0.106103   0.106103\n",
      " 4   0.000000   0.000000    -0.079577  -0.079577\n",
      " 5   0.000000   0.000000     0.063662   0.063662\n",
      " 6   0.000000   0.000000    -0.053052  -0.053052\n",
      " 7   0.000000   0.000000     0.045473   0.045473\n",
      " 8   0.000000   0.000000    -0.039789  -0.039789\n",
      " 9   0.000000   0.000000     0.035368   0.035368\n",
      "10   0.000000   0.000000    -0.031831  -0.031831\n",
      "11   0.000000   0.000000     0.028937   0.028937\n",
      "12   0.000000   0.000000    -0.026526  -0.026526\n",
      "13   0.000000   0.000000     0.024485   0.024485\n",
      "14   0.000000   0.000000    -0.022736  -0.022736\n",
      "15   0.000000   0.000000     0.021221   0.021221\n",
      "16   0.000000   0.000000    -0.019894  -0.019894\n",
      "17   0.000000   0.000000     0.018724   0.018724\n",
      "18   0.000000   0.000000    -0.017684  -0.017684\n",
      "19   0.000000   0.000000     0.016753   0.016753\n"
     ]
    }
   ],
   "source": [
    "print(' n   a_exact     a_quad      b_exact     b_quad')\n",
    "for n, ((a1,b1), (a2,b2)) in enumerate(zip(coeffs_by_hand,\n",
    "                                           coeffs_by_quad)):\n",
    "    print(f'{n:2d}  {a1: .6f}  {a2: .6f}    {b1: .6f}  {b2: .6f}')"
   ]
  },
  {
   "cell_type": "markdown",
   "metadata": {},
   "source": [
    "Make the comparison plot requested: N_max = 2 vs. N_max = 6."
   ]
  },
  {
   "cell_type": "code",
   "execution_count": 8,
   "metadata": {},
   "outputs": [],
   "source": [
    "t_pts = np.arange(-2., 6., .01)\n",
    "f_pts_2 = Fourier_reconstruct(t_pts, coeffs_by_quad, tau, 2)\n",
    "f_pts_6 = Fourier_reconstruct(t_pts, coeffs_by_quad, tau, 6)\n",
    "\n",
    "# Python way to evaluate the sawtooth function at an array of points:\n",
    "#   * np.array creates a numpy array;\n",
    "#   * note the []s around the inner statement;\n",
    "#   * sawtooth(t) for t in t_pts  \n",
    "#       means step through each element of t_pts, call it t, and\n",
    "#       evaluate sawtooth at that t.\n",
    "#   * This is called a list comprehension.  There are more compact ways,\n",
    "#      but this is clear and easy to debug.\n",
    "sawtooth_t_pts = np.array([sawtooth(t, tau, f_max) for t in t_pts])"
   ]
  },
  {
   "cell_type": "code",
   "execution_count": 9,
   "metadata": {},
   "outputs": [
    {
     "data": {
      "image/png": "[encoded data removed]",
      "text/plain": [
       "<Figure size 720x360 with 2 Axes>"
      ]
     },
     "metadata": {
      "needs_background": "light"
     },
     "output_type": "display_data"
    }
   ],
   "source": [
    "\n",
    "fig_1 = plt.figure(figsize=(10,5))\n",
    "ax_1 = fig_1.add_subplot(1,2,1)\n",
    "ax_1.plot(t_pts, f_pts_2, label='N = 2', color='blue')\n",
    "ax_1.plot(t_pts, sawtooth_t_pts, label='exact', color='red')\n",
    "ax_1.set_xlim(-1.1,4.1)\n",
    "ax_1.set_xlabel('t')\n",
    "ax_1.set_ylabel('f(t)')\n",
    "ax_1.set_title('N = 2')\n",
    "ax_1.legend()\n",
    "\n",
    "ax_2 = fig_1.add_subplot(1,2,2)\n",
    "ax_2.plot(t_pts, f_pts_6, label='N = 6', color='blue')\n",
    "ax_2.plot(t_pts, sawtooth_t_pts, label='exact', color='red')\n",
    "ax_2.set_xlim(-1.1,4.1)\n",
    "ax_2.set_xlabel('t')\n",
    "ax_2.set_ylabel('f(t)')\n",
    "ax_2.set_title('N = 6')\n",
    "ax_2.legend();\n",
    "\n",
    "fig_1.tight_layout()\n",
    "fig_1.savefig('problem_5.50.png')"
   ]
  },
  {
   "cell_type": "code",
   "execution_count": null,
   "metadata": {},
   "outputs": [],
   "source": []
  },
  {
   "cell_type": "code",
   "execution_count": null,
   "metadata": {},
   "outputs": [],
   "source": []
  }
 ],
 "metadata": {
  "kernelspec": {
   "display_name": "Python 3 (ipykernel)",
   "language": "python",
   "name": "python3"
  },
  "language_info": {
   "codemirror_mode": {
    "name": "ipython",
    "version": 3
   },
   "file_extension": ".py",
   "mimetype": "text/x-python",
   "name": "python",
   "nbconvert_exporter": "python",
   "pygments_lexer": "ipython3",
   "version": "3.9.9"
  }
 },
 "nbformat": 4,
 "nbformat_minor": 2
}
