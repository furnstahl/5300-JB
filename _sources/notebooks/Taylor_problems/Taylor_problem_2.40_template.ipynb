{
 "cells": [
  {
   "cell_type": "markdown",
   "metadata": {},
   "source": [
    "# Taylor problem 2.40"
   ]
  },
  {
   "cell_type": "markdown",
   "metadata": {},
   "source": [
    "Consider an object that is coasting horizontally (positive $x$ direction) subject to a drag force $f = -bv -c v^2$.  Your first job is to solve Newton's 2nd law equation for $v(t)$ by separating variables.  You should find:\n",
    "\n",
    "$$\\begin{align}\n",
    "  v(t) &= \\frac{b A e^{-bt/m}}{1 - c A e^{-bt/m}} \\\\\n",
    "  A &\\equiv \\frac{v_0}{b + c v_0}\n",
    "\\end{align}$$\n",
    "\n",
    "Now we want to plot $v(t)$ as analyze the behavior for large $t$.\n",
    "\n",
    "**Go through and fill in the blanks where ### appears.**"
   ]
  },
  {
   "cell_type": "code",
   "execution_count": null,
   "metadata": {},
   "outputs": [],
   "source": [
    "import numpy as np\n",
    "\n",
    "def v_of_t(t, b, c, v0, m=1):\n",
    "    A = v0/(b + c*v0)\n",
    "    return  b * A * np.exp(-b*t/m) / (    ) ### fill in the equation here"
   ]
  },
  {
   "cell_type": "markdown",
   "metadata": {},
   "source": [
    "Next we make a plot in the standard way:"
   ]
  },
  {
   "cell_type": "code",
   "execution_count": null,
   "metadata": {},
   "outputs": [],
   "source": [
    "%matplotlib inline\n",
    "import matplotlib.pyplot as plt\n",
    "\n",
    "t_pts =  ### determine a set of t points such that you see the decay\n",
    "fig = plt.figure()\n",
    "ax = fig.add_subplot(1,1,1)\n",
    "ax.plot(t_pts, v_of_t(t_pts, 1., 1., 1.))\n",
    "ax.set_xlabel(r'$t$')\n",
    "ax.set_ylabel(r'$v(t)$')\n"
   ]
  },
  {
   "cell_type": "markdown",
   "metadata": {},
   "source": [
    "Now we add another plot and check if it is an exponential decay.  **What kind of plot is this?  (Google the name along with 'matplotlib'.)**"
   ]
  },
  {
   "cell_type": "code",
   "execution_count": null,
   "metadata": {},
   "outputs": [],
   "source": [
    "%matplotlib inline\n",
    "import matplotlib.pyplot as plt\n",
    "\n",
    "plt.rcParams.update({'font.size': 18})\n",
    "\n",
    "t_pts = np.arange(0., 3., 0.1)\n",
    "fig = plt.figure(figsize=(10,5))\n",
    "ax = fig.add_subplot(1,2,1)\n",
    "ax.plot(t_pts, v_of_t(t_pts, 1., 1., 1.))\n",
    "ax.set_xlabel(r'$t$')\n",
    "ax.set_ylabel(r'$v(t)$')\n",
    "ax.grid(True)\n",
    "\n",
    "ax2 = fig.add_subplot(1,2,2)\n",
    "ax2.semilogy(t_pts, v_of_t(t_pts, 1., 1., 1.))\n",
    "ax2.set_xlabel(r'$t$')\n",
    "ax2.set_ylabel(r'$v(t)$')\n",
    "ax2.grid(True)\n",
    "\n",
    "fig.tight_layout()  # make the spacing of subplots nicer\n"
   ]
  },
  {
   "cell_type": "code",
   "execution_count": null,
   "metadata": {},
   "outputs": [],
   "source": [
    "fig.savefig('Taylor_prob_2.40.png', bbox_inches='tight')\n",
    "### Find the figure file and display it in your browser, then save or print. \n",
    "### What do you learn from the second graph?"
   ]
  },
  {
   "cell_type": "code",
   "execution_count": null,
   "metadata": {},
   "outputs": [],
   "source": []
  }
 ],
 "metadata": {
  "kernelspec": {
   "display_name": "Python 3 (ipykernel)",
   "language": "python",
   "name": "python3"
  },
  "language_info": {
   "codemirror_mode": {
    "name": "ipython",
    "version": 3
   },
   "file_extension": ".py",
   "mimetype": "text/x-python",
   "name": "python",
   "nbconvert_exporter": "python",
   "pygments_lexer": "ipython3",
   "version": "3.9.9"
  }
 },
 "nbformat": 4,
 "nbformat_minor": 2
}
