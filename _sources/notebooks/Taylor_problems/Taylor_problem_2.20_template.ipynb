{
 "cells": [
  {
   "cell_type": "markdown",
   "metadata": {},
   "source": [
    "# Taylor problem 2.20 Template\n",
    "\n",
    "last revised: 31-Dec-2019 by Dick Furnstahl [furnstahl.1@osu.edu]"
   ]
  },
  {
   "cell_type": "markdown",
   "metadata": {},
   "source": [
    "**This is a template for solving problem 2.20.  Go through and fill in the blanks where ### appears.**"
   ]
  },
  {
   "cell_type": "markdown",
   "metadata": {},
   "source": [
    "The goal of this problem is to plot and comment on the trajectory of a projectile subject to linear air resistance, considering four different values of the drag coefficient.  \n",
    "\n",
    "The problem statement fixes the initial angle above the horizontal and suggests using convenient values for the initial speed (magnitude of the velocity) and gravitational strength $g$.  We'll set up the problem more generally and look at special cases.\n",
    "\n",
    "The equations are derived in the book:\n",
    "\n",
    "$$\\begin{align}\n",
    "  x(t) &= v_{x0}\\tau (1 - e^{-t/\\tau}) \\\\\n",
    "  y(t) &= (v_{y0} + v_{\\textrm{ter}}) \\tau (1 - e^{-t/\\tau}) - v_{\\textrm{ter}} t\n",
    "\\end{align}$$\n",
    "\n",
    "where $v_{\\textrm{ter}} = g\\tau$."
   ]
  },
  {
   "cell_type": "markdown",
   "metadata": {},
   "source": [
    "Plan:\n",
    "1. Define functions for $x$ and $y$, which will depend on $t$, $\\tau$, $g$, and the initial velocity.  Make the functions look like the equations from Taylor to reduce the possibility of error.\n",
    "2. Set up an array of the time $t$.\n",
    "3. Determine $x$ and $y$ arrays for different values of $\\tau$.\n",
    "4. Make a plot of $y$ versus $x$ for each value of $\\tau$, all on the same plot.\n",
    "5. Save the plot for printing."
   ]
  },
  {
   "cell_type": "code",
   "execution_count": 2,
   "metadata": {},
   "outputs": [],
   "source": [
    "### What modules do we need to import? (Can always add more later!)\n",
    "import numpy as np"
   ]
  },
  {
   "cell_type": "markdown",
   "metadata": {},
   "source": [
    "### 1. Define functions for $x$ and $y$"
   ]
  },
  {
   "cell_type": "code",
   "execution_count": null,
   "metadata": {},
   "outputs": [],
   "source": [
    "def x_traj(t, tau, v_x0=1., g=1.):\n",
    "    \"\"\"Horizontal position x(t) from equation (2.36) in Taylor.\n",
    "       The initial position at t=0 is x=y=0.\n",
    "    \"\"\"\n",
    "    return v_x0 * tau * (1. - np.exp(-t/tau))\n",
    "\n",
    "def y_traj(t, tau, v_y0=1., g=1.):\n",
    "    \"\"\"Vertical position y(t) from equation (2.36) in Taylor.\n",
    "       The initial position at t=0 is x=y=0.\n",
    "    \"\"\"\n",
    "    v_ter = g * tau\n",
    "    return ### fill in the correct expression here"
   ]
  },
  {
   "cell_type": "markdown",
   "metadata": {},
   "source": [
    "### 2. Set up an array of the time $t$"
   ]
  },
  {
   "cell_type": "code",
   "execution_count": 3,
   "metadata": {
    "scrolled": true
   },
   "outputs": [
    {
     "data": {
      "text/plain": [
       "array([0. , 0.1, 0.2, 0.3, 0.4, 0.5, 0.6, 0.7, 0.8, 0.9, 1. , 1.1, 1.2,\n",
       "       1.3, 1.4, 1.5, 1.6, 1.7, 1.8, 1.9, 2. , 2.1, 2.2, 2.3, 2.4, 2.5,\n",
       "       2.6, 2.7, 2.8, 2.9])"
      ]
     },
     "execution_count": 3,
     "metadata": {},
     "output_type": "execute_result"
    }
   ],
   "source": [
    "t_min = 0.\n",
    "t_max = 3.\n",
    "delta_t = .1      ### pick a reasonable delta_t\n",
    "t_pts = np.arange(t_min, t_max, delta_t)  ### fill in the blanks\n",
    "t_pts  # check that we did what we thought!"
   ]
  },
  {
   "cell_type": "markdown",
   "metadata": {},
   "source": [
    "### 3., 4. Make $x$ and $y$ arrays for different $\\tau$ and plot"
   ]
  },
  {
   "cell_type": "code",
   "execution_count": null,
   "metadata": {},
   "outputs": [],
   "source": [
    "%matplotlib inline\n",
    "import matplotlib.pyplot as plt\n",
    "### What module(s) should you import?"
   ]
  },
  {
   "cell_type": "code",
   "execution_count": null,
   "metadata": {},
   "outputs": [],
   "source": [
    "plt.rcParams.update({'font.size': 16})  # This is to boost the font size\n",
    "\n",
    "fig = plt.figure(figsize=(10,10))\n",
    "ax =    ### How do you create a single subplot?\n",
    "\n",
    "tau_1 = 0.3\n",
    "ax.plot(x_traj(t_pts, tau_1), y_traj(t_pts, tau_1), 'b-', \n",
    "        label=r'$\\tau = 0.3$')\n",
    "\n",
    "tau_2 = 1.0\n",
    "ax.plot(x_traj(t_pts, tau_2), y_traj(t_pts, tau_2), 'r:', \n",
    "        label=r'$\\tau = 1.0$')\n",
    "\n",
    "tau_3 = 3.0\n",
    "ax.plot(x_traj(t_pts, tau_3), y_traj(t_pts, tau_3), 'g--', \n",
    "        label=r'$\\tau = 1.0$')\n",
    "### plot a line with tau_3 and line type 'g--' with a label\n",
    "\n",
    "tau_4 = 10000.\n",
    "### plot a line with tau_4 and line type 'k- with a label\n",
    "\n",
    "\n",
    "ax.set_ylim(-0.1, 0.6)\n",
    "ax.set_xlim(0., 2.5)\n",
    "ax.set_xlabel('x')\n",
    "ax.set_ylabel('y')\n",
    "ax.set_aspect(1)  # so that the x and y spacing is the same\n",
    "\n",
    "ax.legend();\n"
   ]
  },
  {
   "cell_type": "markdown",
   "metadata": {},
   "source": [
    "### 5. Save the plot for printing"
   ]
  },
  {
   "cell_type": "code",
   "execution_count": null,
   "metadata": {},
   "outputs": [],
   "source": [
    "# save the figure\n",
    "fig.savefig('Taylor_prob_2.20.png', bbox_inches='tight')\n",
    "### Find the figure file and display it in your browser, then save or print. \n",
    "### Check you graph against the one from the next section."
   ]
  },
  {
   "cell_type": "markdown",
   "metadata": {},
   "source": [
    "## More advanced python: plot again with a loop"
   ]
  },
  {
   "cell_type": "markdown",
   "metadata": {},
   "source": [
    "Now do it as a loop, cycling through properties, and add a vertical line at the asymptotic distance."
   ]
  },
  {
   "cell_type": "code",
   "execution_count": null,
   "metadata": {},
   "outputs": [],
   "source": [
    "import matplotlib.pyplot as plt\n",
    "\n",
    "plt.rcParams.update({'font.size': 18})\n",
    "\n",
    "from cycler import cycler\n",
    "my_cycler = (cycler(color=['k', 'g', 'b', 'r']) +\n",
    "             cycler(linestyle=['-', '--', ':', '-.']))\n",
    "\n",
    "\n",
    "fig = plt.figure(figsize=(10,10))\n",
    "ax = fig.add_subplot(1,1,1)\n",
    "ax.set_prop_cycle(my_cycler)\n",
    "\n",
    "v_x0 = 1.\n",
    "tau_list = [10000, 3.0, 1.0, 0.3, 0.1]\n",
    "for tau in tau_list:\n",
    "    ax.plot(x_traj(t_pts, tau), y_traj(t_pts, tau),  \n",
    "            label=rf'$\\tau = {tau:.1f}$')\n",
    "    ax.axvline(v_x0 * tau, color='black', linestyle='dotted')\n",
    "\n",
    "ax.set_ylim(-0.1, 0.6)\n",
    "ax.set_xlim(0., 2.5)\n",
    "ax.set_xlabel('x')\n",
    "ax.set_ylabel('y')\n",
    "ax.set_aspect(1)  # so that the x and y spacing is the same\n",
    "\n",
    "ax.legend();\n"
   ]
  },
  {
   "cell_type": "markdown",
   "metadata": {},
   "source": [
    "**If it is new to you, look up how a for loop in Python works and try to figure out what is happening here.  Ask if you are confused!**"
   ]
  },
  {
   "cell_type": "code",
   "execution_count": null,
   "metadata": {},
   "outputs": [],
   "source": []
  }
 ],
 "metadata": {
  "kernelspec": {
   "display_name": "Python 3 (ipykernel)",
   "language": "python",
   "name": "python3"
  },
  "language_info": {
   "codemirror_mode": {
    "name": "ipython",
    "version": 3
   },
   "file_extension": ".py",
   "mimetype": "text/x-python",
   "name": "python",
   "nbconvert_exporter": "python",
   "pygments_lexer": "ipython3",
   "version": "3.9.9"
  }
 },
 "nbformat": 4,
 "nbformat_minor": 2
}
