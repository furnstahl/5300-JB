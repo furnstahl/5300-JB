{
 "cells": [
  {
   "cell_type": "markdown",
   "metadata": {},
   "source": [
    "# Taylor problem 1.50 supplement\n",
    "\n",
    "last revised: 31-Dec-2021 by Dick Furnstahl [furnstahl.1@osu.edu]\n",
    "\n",
    "The goal of this notebook is to create an energy diagram graph for problem 1.50 to help explain the observation that the small angle approximation graph completes a period faster than the full solution.\n",
    "\n",
    "The equations are:\n",
    "\n",
    "$$\n",
    "\\begin{align}\n",
    "  \\ddot\\phi = -\\frac{g}{R}\\sin\\phi \\qquad\\mbox{and}\\qquad \\ddot\\phi = -\\frac{g}{R}\\phi\n",
    "\\end{align}\n",
    "$$\n",
    "\n",
    "The potential energies associated with the small angle case is (with $g = R = 1$) given by $U(\\phi)=\\phi^2/2$.  For the full\n",
    "case, with the same zero of potential energy, $U(x) = 1 - \\cos\\phi$.  Note that these agree when $\\phi$ is sufficiently small.\n",
    "\n",
    "Plan: construct the energy diagrams for these two potentials.  Use the fact that they start with the same initial condition:\n",
    "$\\phi(0) = \\phi_0$ for some $\\phi_0$ and $\\dot\\phi(0) = 0$.\n"
   ]
  },
  {
   "cell_type": "code",
   "execution_count": null,
   "metadata": {},
   "outputs": [],
   "source": [
    "%matplotlib notebook\n",
    "import numpy as np\n",
    "import matplotlib.pyplot as plt\n",
    "\n",
    "plt.rcParams.update({'font.size': 16})"
   ]
  },
  {
   "cell_type": "code",
   "execution_count": null,
   "metadata": {},
   "outputs": [],
   "source": [
    "x = np.linspace(-3.,3.,200)  # adjust this interval to make a good plot\n",
    "\n",
    "fig = plt.figure(num='Comparison of full potential and harmonic approximation')\n",
    "ax = fig.add_subplot(1,1,1)\n",
    "ax.plot(x, x**2/2, label=r'harmonic: $\\phi^2/2$', color='blue')\n",
    "ax.plot(x, 1.-np.cos(x), label=r'$1 - \\cos\\ \\phi$', color='red')\n",
    "ax.axhline(1., color='blue', linestyle='--')\n",
    "ax.axhline(0.846, color='red', linestyle='--')\n",
    "ax.axvline(np.sqrt(2.), color='green')\n",
    "ax.set_ylim(-.1,3.)\n",
    "ax.set_xlabel(r'$\\phi$')\n",
    "ax.set_ylabel(r'$U(\\phi)$')\n",
    "ax.legend(loc='best')\n",
    "\n",
    "fig.tight_layout()  # separates the plot from the controls\n"
   ]
  },
  {
   "cell_type": "markdown",
   "metadata": {},
   "source": [
    "Now do the analysis!"
   ]
  },
  {
   "cell_type": "code",
   "execution_count": null,
   "metadata": {},
   "outputs": [],
   "source": []
  }
 ],
 "metadata": {
  "kernelspec": {
   "display_name": "Python 3 (ipykernel)",
   "language": "python",
   "name": "python3"
  },
  "language_info": {
   "codemirror_mode": {
    "name": "ipython",
    "version": 3
   },
   "file_extension": ".py",
   "mimetype": "text/x-python",
   "name": "python",
   "nbconvert_exporter": "python",
   "pygments_lexer": "ipython3",
   "version": "3.9.9"
  }
 },
 "nbformat": 4,
 "nbformat_minor": 2
}
