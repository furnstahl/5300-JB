{
 "cells": [
  {
   "cell_type": "markdown",
   "metadata": {},
   "source": [
    "# Taylor problem 1.50"
   ]
  },
  {
   "cell_type": "markdown",
   "metadata": {},
   "source": [
    "This problem attacks the \"oscillating skateboard\" problem described in Example 1.2 of Taylor.  A Newton's 2nd law analysis leads to the differential equation for the angle $\\phi$ in radians:\n",
    "\n",
    "$$\n",
    "\\begin{align}\n",
    "  \\ddot\\phi = -\\frac{g}{R}\\sin\\phi\n",
    "  \\;.\n",
    "\\end{align}\n",
    "$$\n",
    "\n",
    "This is a 2nd order, *nonlinear* differential equation.  We note it is the same equation describing the motion of a simple (undamped, not driven) pendulum.\n",
    "\n",
    "Problem 1.50 has us solving this equation numerically for particular initial conditions and comparing the plots to the approximate solution based on the small angle approximation for $\\sin\\phi$.  We'll build up code to find this solution and plot it in steps to illustrate how a notebook evolves.  We don't create the polished version at once!\n",
    "\n",
    "**Your goal for problem 1.51: Modify the relevant part of this notebook to produce the required figure, print it out, and turn it in with your homework.**"
   ]
  },
  {
   "cell_type": "code",
   "execution_count": null,
   "metadata": {},
   "outputs": [],
   "source": [
    "%matplotlib inline"
   ]
  },
  {
   "cell_type": "code",
   "execution_count": null,
   "metadata": {},
   "outputs": [],
   "source": [
    "import numpy as np\n",
    "from scipy.integrate import odeint\n",
    "\n",
    "import matplotlib.pyplot as plt\n",
    "#plt.rcParams.update({'font.size': 18})\n"
   ]
  },
  {
   "cell_type": "markdown",
   "metadata": {},
   "source": [
    "We'll define the right-hand side (rhs) of the ordinary differential equations (ODE) using the standard form from the Python basics notebook:\n",
    "\n",
    "$$\\begin{align}\n",
    "   \\frac{d}{dt}\\left(\\begin{array}{c}\n",
    "                          \\phi \\\\\n",
    "                          \\dot\\phi\n",
    "                      \\end{array}\\right)\n",
    "               = \\left(\\begin{array}{c}\n",
    "                          \\dot\\phi \\\\\n",
    "                          -g \\sin(\\phi)\n",
    "                       \\end{array}\\right)\n",
    "\\end{align}$$"
   ]
  },
  {
   "cell_type": "code",
   "execution_count": null,
   "metadata": {},
   "outputs": [],
   "source": [
    "def ode_rhs_exact(u_vec, t, *params):\n",
    "    \"\"\" \n",
    "    Right-hand side (rhs) of the differential equation, with \n",
    "    u_vec = [\\phi, \\dot\\phi] and params = [g, R].  Returns the list of\n",
    "    d(u_vec)/dt, as prescribed by the differential equation.\n",
    "    \n",
    "    \"\"\"\n",
    "    phi, phidot = u_vec  # extract phi and phidot from the passed vector\n",
    "    g, R = params  # extract g and R from the passed parameters\n",
    "    return [phidot, -g*np.sin(phi)/R]"
   ]
  },
  {
   "cell_type": "code",
   "execution_count": null,
   "metadata": {},
   "outputs": [],
   "source": [
    "# parameters\n",
    "g = 9.8  # in mks units\n",
    "R = 5    # radius in meters\n",
    "\n",
    "# absolute and relative tolerances for ode solver\n",
    "abserr = 1.0e-8\n",
    "relerr = 1.0e-6\n",
    "\n",
    "# initial conditions for [phi, phidot]\n",
    "phi0 = np.pi/180 * 20.  # convert initial phi to radians\n",
    "u0_vec = [phi0, 0.]\n",
    "\n",
    "t_max = 15.  # integration time\n",
    "t_pts = np.arange(0, t_max, 0.01)  # array of time points, spaced 0.01\n",
    "\n",
    "# Integrate the differential equation and read off phi, phidot (note T!)\n",
    "phi, phidot = odeint(ode_rhs_exact, u0_vec, t_pts, args=(g, R), \n",
    "                     atol=abserr, rtol=relerr).T"
   ]
  },
  {
   "cell_type": "code",
   "execution_count": null,
   "metadata": {},
   "outputs": [],
   "source": [
    "fig = plt.figure()\n",
    "ax = fig.add_subplot(1,1,1)\n",
    "ax.plot(t_pts, 180./np.pi * phi)\n",
    "fig.tight_layout()  # make the spacing of subplots nicer"
   ]
  },
  {
   "cell_type": "markdown",
   "metadata": {},
   "source": [
    "**Does the plot make sense for $\\phi$?  E.g., does it start at the correct angle? Does it have the behavior you expect (e.g., periodic with constant amplitude)?**"
   ]
  },
  {
   "cell_type": "markdown",
   "metadata": {},
   "source": [
    "Now let's put this into a function:"
   ]
  },
  {
   "cell_type": "code",
   "execution_count": null,
   "metadata": {},
   "outputs": [],
   "source": [
    "def solve_for_phi(phi0, phidot0=0, t_min=0., t_max=1., g=9.8, R=5.):\n",
    "    \"\"\"\n",
    "    Solve the differential equation for the skateboard Example 1.2 in Taylor.\n",
    "    The result for t, \\phi(t) and \\dot\\phi(t) are returned for a grid with\n",
    "    t_min < t < t_max and a hardwired (for now) spacing of 0.01 seconds.\n",
    "    The ODE solver is odeint from scipy, with specified tolerances. \n",
    "    Units are mks and angles are in radians.\n",
    "    \"\"\"\n",
    "\n",
    "    # absolute and relative tolerances for ode solver\n",
    "    abserr = 1.0e-8\n",
    "    relerr = 1.0e-6\n",
    "\n",
    "    # initial conditions for [phi, phidot]\n",
    "    u0_vec = [phi0, phidot0]\n",
    "\n",
    "    t_pts = np.arange(t_min, t_max, 0.01)\n",
    "\n",
    "    # Integrate the differential equation\n",
    "    phi, phidot = odeint(ode_rhs_exact, u0_vec, t_pts, args=(g, R), \n",
    "                     atol=abserr, rtol=relerr).T\n",
    "    \n",
    "    return t_pts, phi, phidot"
   ]
  },
  {
   "cell_type": "markdown",
   "metadata": {},
   "source": [
    "Check that it works (gives the previous result)."
   ]
  },
  {
   "cell_type": "code",
   "execution_count": null,
   "metadata": {},
   "outputs": [],
   "source": [
    "phi0 = np.pi/180 * 20.  # convert initial phi to radians\n",
    "t_pts, phi, phidot = solve_for_phi(phi0, t_max=15.)"
   ]
  },
  {
   "cell_type": "code",
   "execution_count": null,
   "metadata": {},
   "outputs": [],
   "source": [
    "fig = plt.figure()\n",
    "ax = fig.add_subplot(1,1,1)\n",
    "ax.plot(t_pts, 180./np.pi * phi)\n",
    "fig.tight_layout()  # make the spacing of subplots nicer\n"
   ]
  },
  {
   "cell_type": "markdown",
   "metadata": {},
   "source": [
    "Ok, now we need an ode function for the small angle approximation.  It's very easy now to copy and modify our other function!"
   ]
  },
  {
   "cell_type": "code",
   "execution_count": null,
   "metadata": {},
   "outputs": [],
   "source": [
    "def ode_rhs_small_angle(u_vec, t, *params):\n",
    "    \"\"\" \n",
    "    Right-hand side (rhs) of the differential equation, with \n",
    "    u_vec = [\\phi, \\dot\\phi] and params = [g, R].  Returns the list of\n",
    "    d(u_vec)/dt, as prescribed by the differential equation.\n",
    "    \n",
    "    \"\"\"\n",
    "    phi, phidot = u_vec  # We don't actually use x or y here, but could!\n",
    "    g, R = params\n",
    "    return [phidot, -g*phi/R]"
   ]
  },
  {
   "cell_type": "markdown",
   "metadata": {},
   "source": [
    "And we can put them together into one solver function:"
   ]
  },
  {
   "cell_type": "code",
   "execution_count": null,
   "metadata": {},
   "outputs": [],
   "source": [
    "def solve_for_phi_all(phi0, phidot0=0, t_min=0., t_max=1., g=9.8, R=5.):\n",
    "    \"\"\"\n",
    "    Solve the differential equation for the skateboard Example 1.2 in Taylor\n",
    "    using the exact equation and the small angle approximation.\n",
    "    The result for t, \\phi(t) and \\dot\\phi(t) are returned for a grid with\n",
    "    t_min < t < t_max and a hardwired (for now) spacing of 0.01 seconds.\n",
    "    The ODE solver is odeint from scipy, with specified tolerances. \n",
    "    Units are mks and angles are in radians.\n",
    "    \"\"\"\n",
    "\n",
    "    # absolute and relative tolerances for ode solver\n",
    "    abserr = 1.0e-8\n",
    "    relerr = 1.0e-6\n",
    "\n",
    "    # initial conditions for [phi, phidot]\n",
    "    u0_vec = [phi0, phidot0]\n",
    "\n",
    "    t_pts = np.arange(t_min, t_max, 0.01)\n",
    "\n",
    "    # Integrate the differential equations\n",
    "    phi, phidot = odeint(ode_rhs_exact, u0_vec, t_pts, args=(g, R), \n",
    "                     atol=abserr, rtol=relerr).T\n",
    "    phi_sa, phidot_sa = odeint(ode_rhs_small_angle, u0_vec, t_pts, args=(g, R), \n",
    "                     atol=abserr, rtol=relerr).T\n",
    "    \n",
    "    return t_pts, phi, phidot, phi_sa, phidot_sa"
   ]
  },
  {
   "cell_type": "markdown",
   "metadata": {},
   "source": [
    "Always try it out!"
   ]
  },
  {
   "cell_type": "code",
   "execution_count": null,
   "metadata": {},
   "outputs": [],
   "source": [
    "phi0 = np.pi/180 * 90.\n",
    "t_pts, phi, phidot, phi_sa, phidot_sa = solve_for_phi_all(phi0, t_max=15.)\n"
   ]
  },
  {
   "cell_type": "code",
   "execution_count": null,
   "metadata": {},
   "outputs": [],
   "source": [
    "fig = plt.figure()\n",
    "ax = fig.add_subplot(1,1,1)\n",
    "ax.plot(t_pts, 180./np.pi * phi)\n",
    "ax.plot(t_pts, 180./np.pi * phi_sa)\n",
    "fig.tight_layout()  # make the spacing of subplots nicer\n"
   ]
  },
  {
   "cell_type": "markdown",
   "metadata": {},
   "source": [
    "This is actually the plot that is requested, so we could analyze it at this stage, but instead let's improve the plot and see how to save it."
   ]
  },
  {
   "cell_type": "markdown",
   "metadata": {},
   "source": [
    "### Ok, now for some more systematic plotting\n",
    "\n",
    "Here we see examples of applying limits to the x and y axes as well as labels and a title."
   ]
  },
  {
   "cell_type": "code",
   "execution_count": null,
   "metadata": {},
   "outputs": [],
   "source": [
    "fig = plt.figure(figsize=(8,6))\n",
    "ax = fig.add_subplot(1,1,1)\n",
    "ax.set_xlim(0.,15.)\n",
    "ax.set_ylim(-25.,25.)\n",
    "ax.set_xlabel('t (sec)')\n",
    "ax.set_ylabel(r'$\\phi$')\n",
    "ax.set_title(r'$\\phi_0 = 20$ degrees')\n",
    "line_exact, = ax.plot(t_pts, 180./np.pi * phi, label='exact')\n",
    "line_sa, = ax.plot(t_pts, 180./np.pi * phi_sa, label='small angle')\n",
    "ax.legend()\n",
    "\n",
    "# save the figure\n",
    "fig.savefig('Taylor_prob_1.50.png', bbox_inches='tight')"
   ]
  },
  {
   "cell_type": "markdown",
   "metadata": {},
   "source": [
    "### Bonus: repeat with widgets!\n",
    "\n",
    "This actually generalizes problems 1.50 and 1.51 so that you can examine any angle in between.  Use it to check your figure for 1.51."
   ]
  },
  {
   "cell_type": "code",
   "execution_count": null,
   "metadata": {},
   "outputs": [],
   "source": [
    "from ipywidgets import interact, fixed\n",
    "import ipywidgets as widgets\n",
    "\n",
    "def rad_to_deg(theta_rad):\n",
    "    \"\"\"Take as input an angle in radians and return it in degrees.\"\"\"\n",
    "    return 180./np.pi * theta_rad\n",
    "\n",
    "def deg_to_rad(theta_deg):\n",
    "    \"\"\"Take as input an angle in degrees and return it in radians.\"\"\"\n",
    "    return np.pi/180. * theta_deg\n"
   ]
  },
  {
   "cell_type": "code",
   "execution_count": null,
   "metadata": {},
   "outputs": [],
   "source": [
    "def plot_exact_and_small_angle(phi0_deg=0):\n",
    "    phi0_rad = deg_to_rad(phi0_deg)\n",
    "    t_pts, phi_rad, phidot, phi_sa_rad, phidot_sa = \\\n",
    "         solve_for_phi_all(phi0_rad, t_max=15.)\n",
    "    phi_deg = rad_to_deg(phi_rad)\n",
    "    phi_sa_deg = rad_to_deg(phi_sa_rad)\n",
    "    \n",
    "    fig = plt.figure(figsize=(8,6))\n",
    "    ax = fig.add_subplot(1,1,1)\n",
    "    line_exact, = ax.plot(t_pts, phi_deg, label='exact')\n",
    "    line_sa, = ax.plot(t_pts, phi_sa_deg, label='small angle')\n",
    "    ax.legend()\n",
    "    ax.set_xlim(0.,15.)\n",
    "    #ax.set_ylim(-90.,90.)\n",
    "    ax.set_xlabel('t (sec)')\n",
    "    ax.set_ylabel(r'$\\phi$')\n",
    "    ax.set_title(fr'$\\phi_0 = {phi0_deg:.0f}$')\n",
    "    plt.show()\n"
   ]
  },
  {
   "cell_type": "code",
   "execution_count": null,
   "metadata": {
    "scrolled": false
   },
   "outputs": [],
   "source": [
    "interact(plot_exact_and_small_angle, phi0_deg=(0.,90.));"
   ]
  },
  {
   "cell_type": "code",
   "execution_count": null,
   "metadata": {},
   "outputs": [],
   "source": [
    "# to avoid the jiggling and do some formatting\n",
    "phi0_deg_widget = widgets.FloatSlider(min=0., max=120.0, step=0.1, value=0.,\n",
    "                                     description=r'$\\phi_0$ (degrees)',\n",
    "                                     readout_format='.0f',\n",
    "                                     continuous_update=False\n",
    "                                    )\n",
    "interact(plot_exact_and_small_angle, phi0_deg=phi0_deg_widget);"
   ]
  },
  {
   "cell_type": "code",
   "execution_count": null,
   "metadata": {},
   "outputs": [],
   "source": []
  }
 ],
 "metadata": {
  "kernelspec": {
   "display_name": "Python 3 (ipykernel)",
   "language": "python",
   "name": "python3"
  },
  "language_info": {
   "codemirror_mode": {
    "name": "ipython",
    "version": 3
   },
   "file_extension": ".py",
   "mimetype": "text/x-python",
   "name": "python",
   "nbconvert_exporter": "python",
   "pygments_lexer": "ipython3",
   "version": "3.9.9"
  }
 },
 "nbformat": 4,
 "nbformat_minor": 2
}
