{
 "cells": [
  {
   "cell_type": "markdown",
   "metadata": {},
   "source": [
    "# Taylor problem 1.39\n",
    "\n",
    "last revised: 31-Dec-2021 by Dick Furnstahl [furnstahl.1@osu.edu]\n",
    "\n",
    "The goal of this notebook is to practice Python while considering some visualizations of problem 1.39 to see how they might help check the results, interpret the behavior, or suggest new ideas on how to extend the problem.  Suggestions are very welcome! We'll use the notebook Matplotlib backend for Jupyter (`%matplotlib notebook`) to allow for reading points off the plot."
   ]
  },
  {
   "cell_type": "markdown",
   "metadata": {},
   "source": [
    "**Problem statement:** A ball is thrown with initial speed $v_0$ up an inclined plane.  The plane is inclined at an angle $\\phi$ above the horizontal, and the ball's initial velocity is at an angle $\\theta$ above the plane.  Choose axes with $x$ measured up the slope, $y$ normal to the slope, and $z$ across it.  Write down Newton's second law using these axes and find the ball's position as a function of time.  Show that the ball lands a distance\n",
    "\n",
    "$$\n",
    "\\begin{align}\n",
    "    R = \\frac{2 v_0^2 \\sin\\theta \\cos(\\theta+\\phi)}{g \\cos^2\\phi}\n",
    "\\end{align}\n",
    "$$\n",
    "\n",
    "from its launch point.  Show that for given $v_0$ and $\\phi$, the maximum possible range up the inclined plane is\n",
    "\n",
    "$$\n",
    "\\begin{align}\n",
    "   R_{\\textrm{max}} = \\frac{v_0^2}{g(1+\\sin\\phi)}  \\;.\n",
    "\\end{align}\n",
    "$$"
   ]
  },
  {
   "cell_type": "markdown",
   "metadata": {},
   "source": [
    "### Gameplan:\n",
    "* Accept the formulas for $R$ and $R_\\textrm{max}$ as given and make plots.  Interpret.\n",
    "* Use a fixed value of phi first, then loop through phi.  \n",
    "* Add formatting to plots (and widgets!).  \n",
    "* Check the formulas using sympy.\n",
    "* Solve the ODE numerically and make some spot comparisons to the formulas. "
   ]
  },
  {
   "cell_type": "markdown",
   "metadata": {},
   "source": [
    "### Make plots of $R$ and $R_\\textrm{max}$\n",
    "\n",
    "We are given expressions for $R$ and $R_\\textrm{max}$, so we'll first turn them into functions.  Then make some plots."
   ]
  },
  {
   "cell_type": "code",
   "execution_count": null,
   "metadata": {},
   "outputs": [],
   "source": [
    "import numpy as np\n",
    "from numpy import pi"
   ]
  },
  {
   "cell_type": "code",
   "execution_count": null,
   "metadata": {},
   "outputs": [],
   "source": [
    "def Range_R(theta, phi, g=9.8, v0=1.0):\n",
    "    \"\"\"\n",
    "    Distance R up the plane given angles theta and phi.\n",
    "    Given in Taylor problem 1.39.    \n",
    "    \"\"\"\n",
    "    return (2.*v0**2 * np.sin(theta) * np.cos(theta+phi))/(g*np.cos(phi)**2)"
   ]
  },
  {
   "cell_type": "code",
   "execution_count": null,
   "metadata": {},
   "outputs": [],
   "source": [
    "def Rmax(phi, g=9.8, v0=1.0):\n",
    "    \"\"\"\n",
    "    Maximum distance up the plane for fixed angle phi. \n",
    "    Given in Taylor problem 1.39.\n",
    "    \"\"\"\n",
    "    return v0**2/(g*(1. + np.sin(phi)))"
   ]
  },
  {
   "cell_type": "code",
   "execution_count": null,
   "metadata": {},
   "outputs": [],
   "source": [
    "# set up for plotting but now using the notebook backend\n",
    "%matplotlib notebook\n",
    "import matplotlib.pyplot as plt\n",
    "import matplotlib as mpl\n",
    "\n",
    "# The following can be uncommented if we want to adjust the font size.\n",
    "plt.rcParams.update({'font.size': 10})"
   ]
  },
  {
   "cell_type": "code",
   "execution_count": null,
   "metadata": {
    "scrolled": true
   },
   "outputs": [],
   "source": [
    "# Make a plot of range R versus theta for several phi values\n",
    "phi_vec = [0., pi/8., pi/4., 3.*pi/8.]\n",
    "theta = np.arange(0,pi/2.,0.01)\n",
    "\n",
    "# Label the figure and axis with _R to distinguish it\n",
    "fig_R = plt.figure(figsize=(3,3))\n",
    "ax_R = fig_R.add_subplot(1,1,1)\n",
    "ax_R.set_title('Distance to landing')\n",
    "ax_R.set_xlabel(r'$\\theta$')\n",
    "ax_R.set_ylabel(r'$R(\\theta,\\phi)$')\n",
    "\n",
    "# start with phi=0 to see if it looks right\n",
    "ax_R.plot(theta, Range_R(theta,phi=0.))\n",
    "fig_R.tight_layout()  # make the spacing of subplots nicer\n"
   ]
  },
  {
   "cell_type": "markdown",
   "metadata": {},
   "source": [
    "Point to the curve to read off coordinates and try out the various controls (hover over a button to reveal a tooltip)."
   ]
  },
  {
   "cell_type": "markdown",
   "metadata": {},
   "source": [
    "Remember that this is not a trajectory; each trajectory is just one point on this curve, specified by $\\theta$ and $\\phi=0$.  Does the shape and features of the curve (e.g., symmetry about the peak) agree with your intuition?  Can you prove (or verify) it should be that way from the analytic formula?\n",
    "\n",
    "It's awkward to work in radians when our intuition (mine, at least) is better in degrees.  Let's define some functions to convert (no doubt there are built-in functions, but these are easy and good practice for us)."
   ]
  },
  {
   "cell_type": "code",
   "execution_count": null,
   "metadata": {},
   "outputs": [],
   "source": [
    "def rad_to_deg(theta_rad):\n",
    "    \"\"\"Take as input an angle in radians and return it in degrees.\"\"\"\n",
    "    return 180./np.pi * theta_rad\n",
    "\n",
    "def deg_to_rad(theta_deg):\n",
    "    \"\"\"Take as input an angle in degrees and return it in radians.\"\"\"\n",
    "    return np.pi/180. * theta_deg\n"
   ]
  },
  {
   "cell_type": "markdown",
   "metadata": {},
   "source": [
    "Now make a plot with $\\theta$ in degrees with a list of $\\phi$ values, specified in radians but converted to degrees for the plot legend."
   ]
  },
  {
   "cell_type": "code",
   "execution_count": null,
   "metadata": {},
   "outputs": [],
   "source": [
    "# Now make a plot of range R versus theta for several phi values\n",
    "phi_vec = [0., pi/8., pi/4., 3.*pi/8., 0.99*pi/2]\n",
    "theta = np.arange(0,pi/2.,0.01)\n",
    "theta_deg = rad_to_deg(theta)\n",
    "\n",
    "fig_R = plt.figure(figsize=(4,4))\n",
    "ax_R = fig_R.add_subplot(1,1,1)\n",
    "ax_R.set_title('Distance to landing')\n",
    "ax_R.set_xlabel(r'$\\theta$ (degrees)')\n",
    "ax_R.set_ylabel(r'$R(\\theta,\\phi)$')\n",
    "\n",
    "#ax_R.plot(theta, Range_R(theta,phi=0.))\n",
    "\n",
    "ax_R.set_ylim(0.,0.15)\n",
    "for phi in phi_vec:\n",
    "    label_phi = fr'$\\phi = {rad_to_deg(phi):.1f}\\!^\\circ$'\n",
    "    ax_R.plot(theta_deg, Range_R(theta,phi), label=label_phi)\n",
    "ax_R.legend()\n",
    "\n",
    "fig_R.tight_layout()  # make the spacing of subplots nicer\n"
   ]
  },
  {
   "cell_type": "markdown",
   "metadata": {},
   "source": [
    "Hmmm, it would be nice to have a picture of the incline next to this.  How would we do that?"
   ]
  },
  {
   "cell_type": "code",
   "execution_count": null,
   "metadata": {
    "scrolled": true
   },
   "outputs": [],
   "source": [
    "# make a plot of range R versus theta for several phi values\n",
    "phi_vec = [0., pi/8., pi/4., 3.*pi/8., 0.99*pi/2]\n",
    "theta = np.arange(0,pi/2.,0.01)\n",
    "theta_deg = rad_to_deg(theta)\n",
    "\n",
    "fig_R = plt.figure(figsize=(6,3))\n",
    "ax_R = fig_R.add_subplot(1,2,1)\n",
    "ax_R.set_title('Distance to landing')\n",
    "ax_R.set_xlabel(r'$\\theta$')\n",
    "ax_R.set_ylabel(r'$R(\\theta,\\phi)$')\n",
    "\n",
    "ax_R.set_ylim(0.,0.15)\n",
    "for phi in phi_vec:\n",
    "    label_phi = fr'$\\phi = {rad_to_deg(phi):.1f}\\!^\\circ$'\n",
    "    ax_R.plot(theta_deg, Range_R(theta,phi), label=label_phi)\n",
    "ax_R.legend()\n",
    "\n",
    "# now add another subplot with the inclined plane.\n",
    "ax_plane = fig_R.add_subplot(1,2,2)\n",
    "ax_plane.set_title('Inclined plane')\n",
    "ax_plane.set_xlim(0.,1.1)\n",
    "ax_plane.set_ylim(0.,1.1)\n",
    "for phi in phi_vec:\n",
    "    label_phi = fr'$\\phi = {rad_to_deg(phi):.1f}\\!^\\circ$'\n",
    "    x_pts = [0., 1.]\n",
    "    y_pts = [0., np.tan(phi)]\n",
    "    ax_plane.plot(x_pts, y_pts, label=label_phi, lw=2)\n",
    "ax_plane.axis('off')\n",
    "ax_plane.legend()\n",
    "\n",
    "fig_R.tight_layout()  # make the spacing of subplots nicer\n"
   ]
  },
  {
   "cell_type": "markdown",
   "metadata": {},
   "source": [
    "Ok, now we can look at the $R(\\theta,\\phi)$ plot and make observations, which we can then try to back-up from the formula. **Try to answer these questions.** \n",
    "* Can you generalize the argument about symmetry to any $\\phi$?\n",
    "* What are the constraints on $R$ from the figure?  Do they match the formula?\n",
    "* Do the changes in the curves with increasing $\\phi$ make sense?  Can they be extracted from the formula?"
   ]
  },
  {
   "cell_type": "markdown",
   "metadata": {},
   "source": [
    "Now plot the $R_{max}$ formula. **Evaluate whether it is consistent with the plots of R.**"
   ]
  },
  {
   "cell_type": "code",
   "execution_count": null,
   "metadata": {},
   "outputs": [],
   "source": [
    "# make a plot of R_max versus phi\n",
    "fig_Rmax = plt.figure(figsize=(3,3), num='Taylor 1.39')\n",
    "ax_Rmax = fig_Rmax.add_subplot(1,1,1)\n",
    "ax_Rmax.set_title(r'Maximum Distance given $\\phi$')\n",
    "ax_Rmax.set_xlabel(r'$\\phi$ (degrees)')\n",
    "ax_Rmax.set_ylabel(r'$R_{max}$')\n",
    "\n",
    "phi = np.arange(0,pi/2.,.1)\n",
    "ax_Rmax.plot(rad_to_deg(phi), Rmax(phi))\n",
    "\n",
    "fig_Rmax.tight_layout()  # make the spacing of subplots nicer"
   ]
  },
  {
   "cell_type": "markdown",
   "metadata": {},
   "source": [
    "**Spotcheck some points on this curve against the previous graph of $R$.  What should you compare?**"
   ]
  },
  {
   "cell_type": "markdown",
   "metadata": {},
   "source": [
    "### Widgetizing with ipywidgets and interact\n",
    "\n",
    "The widgets don't seem to play well with the notebook back end, so we'll switch to `%matplotlib inline`.  You may need to restart the kernel."
   ]
  },
  {
   "cell_type": "code",
   "execution_count": null,
   "metadata": {},
   "outputs": [],
   "source": [
    "%matplotlib inline\n",
    "\n",
    "from ipywidgets import interact, fixed\n",
    "import ipywidgets as widgets\n",
    "\n",
    "# A simple function evaluation (all in radians at this point).\n",
    "interact(Range_R, theta=np.pi/4., phi=(0,np.pi/2), g=fixed(9.8));"
   ]
  },
  {
   "cell_type": "code",
   "execution_count": null,
   "metadata": {},
   "outputs": [],
   "source": [
    "def plot_range_R_versus_theta(phi_deg=0):\n",
    "    \"\"\"Make a plot of range R versus theta for given phi values in degrees\"\"\"\n",
    "\n",
    "    phi_rad = deg_to_rad(phi_deg)\n",
    "    theta_deg = np.arange(0,90.,0.1)\n",
    "    theta_rad = deg_to_rad(theta_deg)\n",
    "    range_R = Range_R(theta_rad,phi_rad)\n",
    "    \n",
    "    fig_R = plt.figure(figsize=(6,3), num='Taylor 1.39')\n",
    "    ax_R = fig_R.add_subplot(1,2,1)\n",
    "    ax_R.set_title('Distance to landing')\n",
    "    ax_R.set_xlabel(r'$\\theta$')\n",
    "    ax_R.set_ylabel(r'$R(\\theta,\\phi)$')\n",
    "\n",
    "    label_phi = fr'$\\phi = {phi_deg:.1f}\\!^\\circ$'\n",
    "    ax_R.plot(theta_deg, range_R, label=label_phi)\n",
    "    ax_R.set_ylim(bottom=0., top=1.1*range_R.max())  # set limit *after* plotting to get auto-scaling\n",
    "    ax_R.legend()\n",
    "\n",
    "    ax_plane = fig_R.add_subplot(1,2,2)\n",
    "    ax_plane.set_title('Inclined plane')\n",
    "    ax_plane.set_xlim(0.,1.1)\n",
    "    ax_plane.set_ylim(0.,1.1)\n",
    "    label_phi = fr'$\\phi = {phi_deg:.1f}\\!^\\circ$'\n",
    "    x_pts = [0., 1.]\n",
    "    y_pts = [0., np.tan(phi_rad)]\n",
    "    ax_plane.plot(x_pts, y_pts, label=label_phi, lw=2)\n",
    "    ax_plane.axis('off')\n",
    "    ax_plane.legend()\n",
    "    \n",
    "    fig_R.tight_layout()  # make the spacing of subplots nicer\n",
    "\n",
    "interact(plot_range_R_versus_theta, phi_deg=(0.,90.));"
   ]
  },
  {
   "cell_type": "code",
   "execution_count": null,
   "metadata": {
    "scrolled": false
   },
   "outputs": [],
   "source": [
    "# to avoid the jiggling and do some formatting\n",
    "phi_deg_widget = widgets.FloatSlider(min=0., max=90.0, step=0.1, value=0.,\n",
    "                                     description=r'$\\phi$ in degrees',\n",
    "                                     readout_format='.0f',\n",
    "                                     continuous_update=False\n",
    "                                    )\n",
    "interact(plot_range_R_versus_theta, phi_deg=phi_deg_widget);"
   ]
  },
  {
   "cell_type": "markdown",
   "metadata": {},
   "source": [
    "### Ok, how about using sympy?\n",
    "\n",
    "See if we can reproduce the algebra of solving for final t, x, and y."
   ]
  },
  {
   "cell_type": "code",
   "execution_count": null,
   "metadata": {},
   "outputs": [],
   "source": [
    "import sympy as sy\n",
    "theta, phi, v0, m, g = sy.symbols('theta phi v0 m g')\n",
    "x, y, t = sy.symbols('x y t')\n",
    "half = sy.Rational(1,2)"
   ]
  },
  {
   "cell_type": "code",
   "execution_count": null,
   "metadata": {},
   "outputs": [],
   "source": [
    "tf = sy.solve(v0*sy.sin(theta)*t - half*g*sy.cos(phi)*t**2, t)\n",
    "tf"
   ]
  },
  {
   "cell_type": "code",
   "execution_count": null,
   "metadata": {},
   "outputs": [],
   "source": [
    "x = v0*sy.cos(theta)*t - half*g*sy.sin(phi)*t**2\n",
    "xf = x.subs(t,tf[1])\n",
    "R = sy.trigsimp(xf)\n",
    "R"
   ]
  },
  {
   "cell_type": "code",
   "execution_count": null,
   "metadata": {},
   "outputs": [],
   "source": [
    "thetamax = sy.solve(sy.trigsimp(sy.diff(R,theta)),theta)\n",
    "thetamax"
   ]
  },
  {
   "cell_type": "code",
   "execution_count": null,
   "metadata": {},
   "outputs": [],
   "source": [
    "Rmax = R.subs(theta,thetamax[0])\n",
    "sy.simplify(Rmax)"
   ]
  },
  {
   "cell_type": "markdown",
   "metadata": {},
   "source": [
    "### Ok, now as a differential equation\n",
    "\n",
    "We'll use odeint for simplicity.  Treat it as coupled 2nd-order differential equations for $x(t)$, $y(t)$, $v_x(t)$, and $v_y(t)$:\n",
    "\n",
    "$$\n",
    "\\begin{align}\n",
    "   \\frac{d}{dt}\\left(\\begin{array}{c}\n",
    "                          \\mathbf{x} \\\\\n",
    "                          \\mathbf{v}\n",
    "                      \\end{array}\\right)\n",
    "               = \\left(\\begin{array}{c}\n",
    "                          \\mathbf{v} \\\\\n",
    "                          \\mathbf{F}/m\n",
    "                       \\end{array}\\right)\n",
    "      \\qquad \\Longrightarrow \\qquad\n",
    "   \\frac{d}{dt}\\left(\\begin{array}{c}\n",
    "                          x \\\\\n",
    "                          y \\\\\n",
    "                          v_x \\\\\n",
    "                          v_y\n",
    "                      \\end{array}\\right)\n",
    "               = \\left(\\begin{array}{c}\n",
    "                          v_x \\\\\n",
    "                          v_y \\\\\n",
    "                          F_x/m \\\\\n",
    "                          F_y/m\n",
    "                       \\end{array}\\right)\n",
    "\\end{align}\n",
    "$$"
   ]
  },
  {
   "cell_type": "code",
   "execution_count": null,
   "metadata": {},
   "outputs": [],
   "source": [
    "import numpy as np\n",
    "from scipy.integrate import odeint\n",
    "import matplotlib.pyplot as plt"
   ]
  },
  {
   "cell_type": "code",
   "execution_count": null,
   "metadata": {},
   "outputs": [],
   "source": [
    "def ode_rhs(u_vec, t, *params):\n",
    "    \"\"\" \n",
    "    Right-hand side (rhs) of the differential equation, with \n",
    "    u_vec = [x, y, v_x, v_y] and params = [g, phi].\n",
    "    \"\"\"\n",
    "    x, y, v_x, v_y = u_vec  # We don't actually use x or y here, but could!\n",
    "    g, phi = params\n",
    "    return [v_x, v_y, -g*np.sin(phi), -g*np.cos(phi)]"
   ]
  },
  {
   "cell_type": "code",
   "execution_count": null,
   "metadata": {},
   "outputs": [],
   "source": [
    "g = 9.8\n",
    "phi = np.pi/8.\n",
    "theta = np.pi/4.\n",
    "v0 = 1.\n",
    "\n",
    "analytic_range = Range_R(theta,phi,g,v0)\n",
    "print(\"Analytic range = {}\".format(analytic_range))\n",
    "\n",
    "u0_vec = [0, 0, v0*np.cos(theta), v0*np.sin(theta)] \n",
    "\n",
    "t_max = 1.  # integration time\n",
    "t_pts = np.arange(0, t_max, 0.01)\n",
    "\n",
    "# absolute and relative tolerances for ode solver\n",
    "abserr = 1.0e-8\n",
    "relerr = 1.0e-6\n",
    "\n",
    "\n",
    "# Integrate the differential equation\n",
    "x, y, v_x, v_y = odeint(ode_rhs, u0_vec, t_pts, args=(g, phi), \n",
    "              atol=abserr, rtol=relerr).T"
   ]
  },
  {
   "cell_type": "markdown",
   "metadata": {},
   "source": [
    "We'll just check one case here, but you can do more!"
   ]
  },
  {
   "cell_type": "code",
   "execution_count": null,
   "metadata": {},
   "outputs": [],
   "source": [
    "fig = plt.figure(figsize=(4,4))\n",
    "ax = fig.add_subplot(1,1,1)\n",
    "ax.plot(x, y)\n",
    "ax.set_ylim(0,.15)\n",
    "ax.set_xlim(0,.15)\n",
    "ax.set_xlabel('x: distance up incline')\n",
    "ax.set_ylabel(r'y: distance $\\perp$ to incline')\n",
    "ax.axvline(analytic_range, color=\"red\")"
   ]
  },
  {
   "cell_type": "markdown",
   "metadata": {},
   "source": [
    "**Did it work?**"
   ]
  },
  {
   "cell_type": "code",
   "execution_count": null,
   "metadata": {},
   "outputs": [],
   "source": []
  }
 ],
 "metadata": {
  "kernelspec": {
   "display_name": "Python 3 (ipykernel)",
   "language": "python",
   "name": "python3"
  },
  "language_info": {
   "codemirror_mode": {
    "name": "ipython",
    "version": 3
   },
   "file_extension": ".py",
   "mimetype": "text/x-python",
   "name": "python",
   "nbconvert_exporter": "python",
   "pygments_lexer": "ipython3",
   "version": "3.9.9"
  }
 },
 "nbformat": 4,
 "nbformat_minor": 2
}
