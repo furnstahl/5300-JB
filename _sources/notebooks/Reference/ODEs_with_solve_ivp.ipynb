{
 "cells": [
  {
   "cell_type": "markdown",
   "metadata": {},
   "source": [
    "# Solving ODEs with scipy.integrate.solve_ivp"
   ]
  },
  {
   "cell_type": "markdown",
   "metadata": {},
   "source": [
    "## Solving ordinary differential equations (ODEs)\n",
    "\n",
    "Here we will revisit the differential equations solved in 5300_Jupyter_Python_intro_01.ipynb with `odeint`, only now we'll use `solve_ivp` from Scipy.  We'll compare the new and old solutions as we go."
   ]
  },
  {
   "cell_type": "markdown",
   "metadata": {},
   "source": [
    "### First-order ODE"
   ]
  },
  {
   "cell_type": "code",
   "execution_count": 1,
   "metadata": {},
   "outputs": [],
   "source": [
    "# Import the required modules\n",
    "import numpy as np\n",
    "import matplotlib.pyplot as plt\n",
    "\n",
    "from scipy.integrate import solve_ivp   # Now preferred to odeint"
   ]
  },
  {
   "cell_type": "markdown",
   "metadata": {},
   "source": [
    "Let's try a one-dimensional first-order ODE, say:\n",
    "\n",
    "$\\begin{align}\n",
    "\\quad \n",
    "\\frac{dv}{dt} = -g, \\quad \\mbox{with} \\quad v(0) = 10\n",
    "\\end{align}$\n",
    "\n",
    "in some appropriate units (we'll use MKS units by default).  This ODE can be separated and directly integrated:\n",
    "\n",
    "$\\begin{align}\n",
    "  \\int_{v_0=10}^{v} dv' = - g \\int_{0}^{t} dt'\n",
    "  \\quad\\Longrightarrow\\quad\n",
    "    v - v_0 = - g (t - 0)\n",
    "  \\quad\\Longrightarrow\\quad\n",
    "   v(t) = 10 - gt\n",
    "\\end{align}$\n",
    "\n"
   ]
  },
  {
   "cell_type": "markdown",
   "metadata": {},
   "source": [
    "The goal is to find the solution $v(t)$ as an array `v_pts` at the times in the array `t_pts`."
   ]
  },
  {
   "cell_type": "code",
   "execution_count": 2,
   "metadata": {},
   "outputs": [],
   "source": [
    "# Define a function which calculates the derivative\n",
    "def dv_dt_new(t, v, g=9.8):\n",
    "    \"\"\"Returns the right side of a simple first-order ODE with default g.\"\"\"\n",
    "    return -g   \n",
    "\n",
    "t_start = 0.\n",
    "t_end = 10.\n",
    "t_pts = np.linspace(t_start, t_end, 20)  # 20 points between t=0 and t=10.\n",
    "\n",
    "v_0 = np.array([10.0])  # initial condition, in form of a list or numpy array\n",
    "\n",
    "abserr = 1.e-8\n",
    "relerr = 1.e-8\n",
    "\n",
    "solution = solve_ivp(dv_dt_new, (t_start, t_end), v_0, t_eval=t_pts,\n",
    "                     rtol=relerr, atol=abserr)  \n",
    "    # solve_ivp( function for rhs with (t, v) argument (cf. (v,t) for odeint), \n",
    "    #            tspan=(starting t value, ending t value),\n",
    "    #            initial value of v(t), array of points we want to know v(t),\n",
    "    #            method='RK45' is the default method,\n",
    "    #            rtol=1.e-3, atol=1.e-6 are default tolerances\n",
    "    #          )\n",
    "v_pts = solution.y  # array of results at t_pts"
   ]
  },
  {
   "cell_type": "code",
   "execution_count": 3,
   "metadata": {},
   "outputs": [
    {
     "data": {
      "text/plain": [
       "(1, 20)"
      ]
     },
     "execution_count": 3,
     "metadata": {},
     "output_type": "execute_result"
    }
   ],
   "source": [
    "v_pts.shape   # 1 x 100 matrix (row vector)"
   ]
  },
  {
   "cell_type": "markdown",
   "metadata": {},
   "source": [
    "Here's how we did it before with odeint:"
   ]
  },
  {
   "cell_type": "code",
   "execution_count": 4,
   "metadata": {},
   "outputs": [],
   "source": [
    "from scipy.integrate import odeint   \n",
    "\n",
    "# Define a function which calculates the derivative\n",
    "def dv_dt(v, t, g=9.8):\n",
    "    \"\"\"Returns the right side of a simple first-order ODE with default g.\"\"\"\n",
    "    return -g   \n",
    "\n",
    "t_pts = np.linspace(0., 10., 20)     # 20 points between t=0 and t=10.\n",
    "v_0 = 10.  # the initial condition\n",
    "v_pts_odeint = odeint(dv_dt, v_0, t_pts)  # odeint( function for rhs, \n",
    "                                          #         initial value of v(t),\n",
    "                                          #         array of t values )\n"
   ]
  },
  {
   "cell_type": "code",
   "execution_count": 5,
   "metadata": {},
   "outputs": [
    {
     "data": {
      "text/plain": [
       "(20, 1)"
      ]
     },
     "execution_count": 5,
     "metadata": {},
     "output_type": "execute_result"
    }
   ],
   "source": [
    "v_pts_odeint.shape   # 100 x 1 matrix (column vector)"
   ]
  },
  {
   "cell_type": "markdown",
   "metadata": {},
   "source": [
    "Make a table comparing results (using `flatten()` to make the matrices into arrays):"
   ]
  },
  {
   "cell_type": "code",
   "execution_count": 6,
   "metadata": {},
   "outputs": [
    {
     "name": "stdout",
     "output_type": "stream",
     "text": [
      "    t     v(t) [solve_ivp]    v(t) [odeint]\n",
      "  0.000     10.0000000         10.0000000\n",
      "  0.526      4.8421053          4.8421053\n",
      "  1.053     -0.3157895         -0.3157895\n",
      "  1.579     -5.4736842         -5.4736842\n",
      "  2.105    -10.6315789        -10.6315789\n",
      "  2.632    -15.7894737        -15.7894737\n",
      "  3.158    -20.9473684        -20.9473684\n",
      "  3.684    -26.1052632        -26.1052632\n",
      "  4.211    -31.2631579        -31.2631579\n",
      "  4.737    -36.4210526        -36.4210526\n",
      "  5.263    -41.5789474        -41.5789474\n",
      "  5.789    -46.7368421        -46.7368421\n",
      "  6.316    -51.8947368        -51.8947368\n",
      "  6.842    -57.0526316        -57.0526316\n",
      "  7.368    -62.2105263        -62.2105263\n",
      "  7.895    -67.3684211        -67.3684211\n",
      "  8.421    -72.5263158        -72.5263158\n",
      "  8.947    -77.6842105        -77.6842105\n",
      "  9.474    -82.8421053        -82.8421053\n",
      " 10.000    -88.0000000        -88.0000000\n"
     ]
    }
   ],
   "source": [
    "print('    t     v(t) [solve_ivp]    v(t) [odeint]')\n",
    "for t, v_solve_ivp, v_odeint in zip(t_pts, \n",
    "                                    v_pts.flatten(), \n",
    "                                    v_pts_odeint.flatten()):\n",
    "    print(f' {t:6.3f}   {v_solve_ivp:12.7f}       {v_odeint:12.7f}')"
   ]
  },
  {
   "cell_type": "markdown",
   "metadata": {},
   "source": [
    "Differences between `solve_ivp` and `odeint`:\n",
    "* `dv_dt(t, v)`  vs.  `dv_dt(v, t)`, i.e., the function definitions have the arguments reversed.\n",
    "* With `odeint`, you only specify the full array of $t$ points you want to know $v(t)$ at.  With `solve_ivp`, you first specify the starting $t$ and ending $t$ as a tuple: `(t_start, t_end)` and then (optionally) specify `t_eval=t_pts` to evaluate $v$ at the points in the `t_pts` array.\n",
    "* `solve_ivp` returns an object from which $v(t)$ (and other results) can be found, while `ode_int` returns $v(t)$.\n",
    "* For this single first-order equation, $v(t)$ is returned for the $N$ requested $t$ points as a $1 \\times N$ two-dimensional array by `solve_ivp` and as a $N \\times 1$ array by `odeint`.\n",
    "* `odeint` has no choice of solver while the `solve_ivp` solver can be set by `method`.  The default is `method='RK45'`, which is good, general-purpose Runge-Kutta solver.  "
   ]
  },
  {
   "cell_type": "markdown",
   "metadata": {},
   "source": [
    "### Second-order ODE"
   ]
  },
  {
   "cell_type": "markdown",
   "metadata": {},
   "source": [
    "Suppose we have a second-order ODE such as:\n",
    "\n",
    "$$\n",
    "\\quad y'' + 2 y' + 2 y = \\cos(2x), \\quad \\quad y(0) = 0, \\; y'(0) = 0\n",
    "$$\n",
    "\n",
    "We can turn this into two first-order equations by defining a new dependent variable. For example,\n",
    "\n",
    "$$\n",
    "\\quad z \\equiv y' \\quad \\Rightarrow \\quad z' + 2 z + 2y = \\cos(2x), \\quad z(0)=y(0) = 0.\n",
    "$$\n",
    "\n",
    "Now introduce the vector \n",
    "\n",
    "$$\n",
    "  \\mathbf{U}(x) = \\left(\\begin{array}{c}\n",
    "                         y(x) \\\\\n",
    "                         z(x)\n",
    "                        \\end{array}\n",
    "                  \\right)\n",
    "        \\quad\\Longrightarrow\\quad\n",
    "    \\frac{d\\mathbf{U}}{dx} = \\left(\\begin{array}{c}\n",
    "                                    z \\\\\n",
    "                                    -2 y' - 2 y + \\cos(2x)\n",
    "                                   \\end{array}\n",
    "                             \\right) \n",
    "$$\n",
    "\n",
    "We can solve this system of ODEs using `solve_ivp` with lists, as follows.  We will try it first without specifying the relative and absolute error tolerances rtol and atol."
   ]
  },
  {
   "cell_type": "code",
   "execution_count": 7,
   "metadata": {},
   "outputs": [],
   "source": [
    "# Define a function for the right side\n",
    "def dU_dx_new(x, U):\n",
    "    \"\"\"Right side of the differential equation to be solved.\n",
    "    U is a two-component vector with y=U[0] and z=U[1]. \n",
    "    Thus this function should return [y', z']\n",
    "    \"\"\"\n",
    "    return [U[1], -2*U[1] - 2*U[0] + np.cos(2*x)]\n",
    "\n",
    "# initial condition U_0 = [y(0)=0, z(0)=y'(0)=0]\n",
    "U_0 = [0., 0.]\n",
    "\n",
    "x_pts = np.linspace(0, 15, 20)  # Set up the mesh of x points\n",
    "result = solve_ivp(dU_dx_new, (0, 15), U_0, t_eval=x_pts)\n",
    "y_pts = result.y[0,:]   # Ok, this is tricky.  For each x, result.y has two \n",
    "                        #  components.  We want the first component for all\n",
    "                        #  x, which is y(x).  The 0 means the first index and \n",
    "                        #  the : means all of the x values.\n"
   ]
  },
  {
   "cell_type": "markdown",
   "metadata": {},
   "source": [
    "Here's how we did it before with `odeint`:"
   ]
  },
  {
   "cell_type": "code",
   "execution_count": 8,
   "metadata": {},
   "outputs": [],
   "source": [
    "# Define a function for the right side\n",
    "def dU_dx(U, x):\n",
    "    \"\"\"Right side of the differential equation to be solved.\n",
    "    U is a two-component vector with y=U[0] and z=U[1]. \n",
    "    Thus this function should return [y', z']\n",
    "    \"\"\"\n",
    "    return [U[1], -2*U[1] - 2*U[0] + np.cos(2*x)]\n",
    "\n",
    "# initial condition U_0 = [y(0)=0, z(0)=y'(0)=0]\n",
    "U_0 = [0., 0.]\n",
    "\n",
    "x_pts = np.linspace(0, 15, 20)  # Set up the mesh of x points\n",
    "U_pts = odeint(dU_dx, U_0, x_pts)  # U_pts is a 2-dimensional array\n",
    "y_pts_odeint = U_pts[:,0]  # Ok, this is tricky.  For each x, U_pts has two \n",
    "                           #  components.  We want the upper component for all\n",
    "                           #  x, which is y(x).  The : means all of the first \n",
    "                           #  index, which is x, and the 0 means the first\n",
    "                           #  component in the other dimension."
   ]
  },
  {
   "cell_type": "markdown",
   "metadata": {},
   "source": [
    "Make a table comparing results (using `flatten()` to make the matrices into arrays):"
   ]
  },
  {
   "cell_type": "code",
   "execution_count": 9,
   "metadata": {},
   "outputs": [
    {
     "name": "stdout",
     "output_type": "stream",
     "text": [
      "    x     y(x) [solve_ivp]    y(x) [odeint]\n",
      "  0.000      0.0000000          0.0000000\n",
      "  0.789      0.1360331          0.1360684\n",
      "  1.579      0.0346996          0.0347028\n",
      "  2.368     -0.2285869         -0.2287035\n",
      "  3.158     -0.0975124         -0.0974702\n",
      "  3.947      0.2065854          0.2067492\n",
      "  4.737      0.0927442          0.0927536\n",
      "  5.526     -0.2041596         -0.2042677\n",
      "  6.316     -0.0865498         -0.0865921\n",
      "  7.105      0.2065843          0.2066669\n",
      "  7.895      0.0832378          0.0832707\n",
      "  8.684     -0.2080557         -0.2081975\n",
      "  9.474     -0.0800124         -0.0799972\n",
      " 10.263      0.2092958          0.2094602\n",
      " 11.053      0.0766106          0.0765810\n",
      " 11.842     -0.2105482         -0.2107011\n",
      " 12.632     -0.0731339         -0.0731411\n",
      " 13.421      0.2117964          0.2118952\n",
      " 14.211      0.0696499          0.0696868\n",
      " 15.000     -0.2129584         -0.2130316\n"
     ]
    }
   ],
   "source": [
    "print('    x     y(x) [solve_ivp]    y(x) [odeint]')\n",
    "for x, y_solve_ivp, y_odeint in zip(x_pts, \n",
    "                                    y_pts.flatten(), \n",
    "                                    y_pts_odeint.flatten()):\n",
    "    print(f' {x:6.3f}   {y_solve_ivp:12.7f}       {y_odeint:12.7f}')"
   ]
  },
  {
   "cell_type": "markdown",
   "metadata": {},
   "source": [
    "Not very close agreement by the end.  Run both again with greater accuracy."
   ]
  },
  {
   "cell_type": "code",
   "execution_count": 10,
   "metadata": {},
   "outputs": [
    {
     "name": "stdout",
     "output_type": "stream",
     "text": [
      "    x     y(x) [solve_ivp]    y(x) [odeint]\n",
      "  0.000      0.0000000          0.0000000\n",
      "  0.789      0.1360684          0.1360684\n",
      "  1.579      0.0347028          0.0347028\n",
      "  2.368     -0.2287035         -0.2287035\n",
      "  3.158     -0.0974702         -0.0974702\n",
      "  3.947      0.2067492          0.2067492\n",
      "  4.737      0.0927536          0.0927536\n",
      "  5.526     -0.2042678         -0.2042678\n",
      "  6.316     -0.0865921         -0.0865921\n",
      "  7.105      0.2066669          0.2066669\n",
      "  7.895      0.0832707          0.0832707\n",
      "  8.684     -0.2081975         -0.2081975\n",
      "  9.474     -0.0799972         -0.0799972\n",
      " 10.263      0.2094602          0.2094602\n",
      " 11.053      0.0765810          0.0765810\n",
      " 11.842     -0.2107011         -0.2107011\n",
      " 12.632     -0.0731411         -0.0731411\n",
      " 13.421      0.2118952          0.2118952\n",
      " 14.211      0.0696868          0.0696868\n",
      " 15.000     -0.2130316         -0.2130316\n"
     ]
    }
   ],
   "source": [
    "relerr = 1.e-10\n",
    "abserr = 1.e-10\n",
    "\n",
    "result = solve_ivp(dU_dx_new, (0, 15), U_0, t_eval=x_pts, \n",
    "                   rtol=relerr, atol=abserr)\n",
    "y_pts = result.y[0,:]    \n",
    "\n",
    "U_pts = odeint(dU_dx, U_0, x_pts, \n",
    "               rtol=relerr, atol=abserr)  \n",
    "y_pts_odeint = U_pts[:,0]   \n",
    "\n",
    "print('    x     y(x) [solve_ivp]    y(x) [odeint]')\n",
    "for x, y_solve_ivp, y_odeint in zip(x_pts, \n",
    "                                    y_pts.flatten(), \n",
    "                                    y_pts_odeint.flatten()):\n",
    "    print(f' {x:6.3f}   {y_solve_ivp:12.7f}       {y_odeint:12.7f}')"
   ]
  },
  {
   "cell_type": "markdown",
   "metadata": {},
   "source": [
    "Comparing the results from when we didn't specify the errors we see that the default error tolerances for solve_ivp were insufficient.  Moral: specify them explicitly.  "
   ]
  }
 ],
 "metadata": {
  "kernelspec": {
   "display_name": "Python 3",
   "language": "python",
   "name": "python3"
  },
  "language_info": {
   "codemirror_mode": {
    "name": "ipython",
    "version": 3
   },
   "file_extension": ".py",
   "mimetype": "text/x-python",
   "name": "python",
   "nbconvert_exporter": "python",
   "pygments_lexer": "ipython3",
   "version": "3.8.3"
  }
 },
 "nbformat": 4,
 "nbformat_minor": 2
}
