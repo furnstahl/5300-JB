{
 "cells": [
  {
   "cell_type": "markdown",
   "metadata": {},
   "source": [
    "# Example of class and subclass\n",
    "\n",
    "Adapted from https://www.astro.umass.edu/~schloerb/ph281/Lectures/OOP/OOP.pdf."
   ]
  },
  {
   "cell_type": "code",
   "execution_count": null,
   "metadata": {},
   "outputs": [],
   "source": [
    "import numpy as np"
   ]
  },
  {
   "cell_type": "code",
   "execution_count": null,
   "metadata": {},
   "outputs": [],
   "source": [
    "class MyVector:\n",
    "    '''Demo Class to manage vector and operations'''\n",
    "    \n",
    "    def __init__(self, x, y, z):\n",
    "        '''constructor'''\n",
    "        self.x = x\n",
    "        self.y = y\n",
    "        self.z = z\n",
    "    \n",
    "    def __str__(self):\n",
    "        '''makes printable representation of vector'''\n",
    "        return f'MyVector({self.x:f}, {self.y:f}, {self.z:f})'\n",
    "    \n",
    "    def __add__(self, other):\n",
    "        '''adds vector'''\n",
    "        return MyVector(self.x + other.x, self.y + other.y, self.z + other.z)\n",
    "    \n",
    "    def __sub__(self, other):\n",
    "        '''subtracts vector'''\n",
    "        return MyVector(self.x-other.x,self.y-other.y,self.z-other.z)\n",
    "    \n",
    "    def __mul__(self, scalar):\n",
    "        '''multiplies vector by scalar'''\n",
    "        return MyVector(scalar * self.x,scalar * self.y,scalar * self.z)\n",
    "    \n",
    "    def __div__(self, scalar):\n",
    "        '''divides vector by scalar'''\n",
    "        return MyVector(self.x/scalar,self.y/scalar,self.z/scalar)\n",
    "    \n",
    "    def norm(self):\n",
    "        '''computes magnitude of vector'''\n",
    "        return np.sqrt(self.x**2 + self.y**2 + self.z**2)\n",
    "    \n",
    "    def unit(self):\n",
    "        '''creates a unit vector'''\n",
    "        return self / self.norm()\n",
    "    \n",
    "    def dot(self, other):\n",
    "        '''computes dot product'''\n",
    "        return self.x * other.x + self.y * other.y + self.z * other.z\n",
    "    \n",
    "    def cross(self,other):\n",
    "        '''computes cross product'''\n",
    "        new_x = self.y * other.z - self.z * other.y\n",
    "        new_y = self.z * other.x - self.x * other.z\n",
    "        new_z = self.x * other.y - self.y * other.x\n",
    "        return MyVector(new_x, new_y, new_z)\n",
    "\n"
   ]
  },
  {
   "cell_type": "code",
   "execution_count": null,
   "metadata": {},
   "outputs": [],
   "source": [
    "a = MyVector(3., 1., 0.)\n",
    "print(a)"
   ]
  },
  {
   "cell_type": "code",
   "execution_count": null,
   "metadata": {},
   "outputs": [],
   "source": [
    "b = MyVector(2., 2., 2.)\n",
    "print(b)"
   ]
  },
  {
   "cell_type": "code",
   "execution_count": null,
   "metadata": {},
   "outputs": [],
   "source": [
    "print(f'Norm of a is {a.norm()}')\n",
    "print(f'Dot product of a and b is {a.dot(b)}')\n",
    "print(f'Cross product of a and b is {a.cross(b)}')\n",
    "print(f'Sum of a and b is {a+b}')\n"
   ]
  },
  {
   "cell_type": "markdown",
   "metadata": {},
   "source": [
    "Now introduce a new class `MyPolarVector` that inherits the methods from `MyVector`."
   ]
  },
  {
   "cell_type": "code",
   "execution_count": null,
   "metadata": {},
   "outputs": [],
   "source": [
    "class MyPolarVector(MyVector):  # subclass of MyVector\n",
    "    '''vector in polar coordinates'''\n",
    "    def __init__(self, r, theta, phi):\n",
    "        '''creates a MyVector instance'''\n",
    "        MyVector.__init__(self,\n",
    "                          r * np.cos(theta) * np.cos(phi),\n",
    "                          r * np.cos(theta) * np.sin(phi),\n",
    "                          r * np.sin(theta))\n",
    "    def r(self):\n",
    "        '''return r, which is the norm of the vector'''\n",
    "        return self.norm()\n",
    "    \n",
    "    def phi(self):\n",
    "        '''return phi, which is found from the x and y components'''\n",
    "        return np.arctan2(self.y, self.x)\n",
    "    \n",
    "    def theta(self):\n",
    "        '''return theta, which is found from z and r'''\n",
    "        return np.arcsin(self.z / self.r())"
   ]
  },
  {
   "cell_type": "code",
   "execution_count": null,
   "metadata": {},
   "outputs": [],
   "source": [
    "a = MyVector(x=3., y=1., z=0.)\n",
    "b = MyPolarVector(r=1., theta=np.pi/4., phi=0.)\n",
    "print(f'{a}, {b}')\n",
    "print(f'b: r = {b.r():.5f}, theta = {b.theta():.5f}, phi = {b.phi():.5f}')"
   ]
  },
  {
   "cell_type": "code",
   "execution_count": null,
   "metadata": {},
   "outputs": [],
   "source": []
  }
 ],
 "metadata": {
  "kernelspec": {
   "display_name": "Python 3",
   "language": "python",
   "name": "python3"
  },
  "language_info": {
   "codemirror_mode": {
    "name": "ipython",
    "version": 3
   },
   "file_extension": ".py",
   "mimetype": "text/x-python",
   "name": "python",
   "nbconvert_exporter": "python",
   "pygments_lexer": "ipython3",
   "version": "3.6.7"
  }
 },
 "nbformat": 4,
 "nbformat_minor": 2
}
