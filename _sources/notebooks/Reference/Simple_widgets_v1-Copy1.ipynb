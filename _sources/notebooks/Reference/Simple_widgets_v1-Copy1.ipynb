{
 "cells": [
  {
   "cell_type": "markdown",
   "metadata": {},
   "source": [
    "# Making a simple widget-based UI with ipywidgets.interactive_output\n",
    "\n",
    "This is a guide-by-example to making simple user interfaces (UIs) for Jupyter notebook using the widgets provided by ipywidgets. In particular we use `ipywidgets.interactive_output`.  There are both simpler and more elaborate ways to use ipywidgets; this is a happy medium.\n",
    "\n",
    "Google \"ipywidgets interact\" for links to more information about widget types and other options for widgets.\n",
    "\n",
    "v1 by Dick Furnstahl (furnstahl.1@osu.edu)"
   ]
  },
  {
   "cell_type": "code",
   "execution_count": 1,
   "metadata": {},
   "outputs": [],
   "source": [
    "%matplotlib inline\n",
    "\n",
    "import numpy as np\n",
    "import matplotlib.pyplot as plt"
   ]
  },
  {
   "cell_type": "markdown",
   "metadata": {},
   "source": [
    "## First pass: only minimal controls"
   ]
  },
  {
   "cell_type": "markdown",
   "metadata": {},
   "source": [
    "### 1. Import ipywidgets and Ipython.display"
   ]
  },
  {
   "cell_type": "code",
   "execution_count": 2,
   "metadata": {},
   "outputs": [],
   "source": [
    "# For convenience, we'll import explicitly the widgets we might use \n",
    "import ipywidgets as widgets\n",
    "from ipywidgets import HBox, VBox, Layout, Tab, Label, Checkbox\n",
    "from ipywidgets import FloatSlider, IntSlider, Play, Dropdown, HTMLMath \n",
    "\n",
    "from IPython.display import display"
   ]
  },
  {
   "cell_type": "markdown",
   "metadata": {},
   "source": [
    "### 2. Create a function with all inputs to generate the output figure(s)."
   ]
  },
  {
   "cell_type": "code",
   "execution_count": 3,
   "metadata": {},
   "outputs": [],
   "source": [
    "# This is a proxy for whatever calculations we need to do for the figure. \n",
    "def my_function(t, A=1., omega=1., phi=0.):\n",
    "    \"\"\"A sine function with adjustable amplitude, frequency, and phase.\n",
    "    \"\"\"\n",
    "    return A * np.sin(omega * t + phi)\n",
    "    \n",
    "\n",
    "def update_plot(omega=1.0):\n",
    "    \"\"\"\n",
    "    Update the plot, which includes a call to a function.\n",
    "    Note that the entire plot is redrawn here.\n",
    "    \"\"\"\n",
    "    t_min = 0.\n",
    "    t_max = 2. * np.pi\n",
    "    num_t = 200\n",
    "    t_pts = np.linspace(t_min, t_max, num_t)\n",
    "    \n",
    "    fig = plt.figure()\n",
    "    ax = fig.add_subplot(1, 1, 1)\n",
    "    line, = ax.plot(t_pts, my_function(t_pts, omega=omega),\n",
    "                    lw=2, color='blue')\n",
    "    ax.set_xlabel(r'$t$')\n",
    "    ax.set_ylabel(r'$f(t)$')\n",
    "    "
   ]
  },
  {
   "cell_type": "markdown",
   "metadata": {},
   "source": [
    "### 3. Make a widget for each value you want to control."
   ]
  },
  {
   "cell_type": "code",
   "execution_count": 4,
   "metadata": {},
   "outputs": [],
   "source": [
    "# We append _w to widget objects by convention.\n",
    "omega_w = FloatSlider(value=1.0, min=0.1, max=10., step=0.1,\n",
    "                      description=r'$\\omega$ :')\n"
   ]
  },
  {
   "cell_type": "markdown",
   "metadata": {},
   "source": [
    "### 4.  Make any explicit callback functions and add .observe methods.\n",
    "\n",
    "We won't need this on the first pass."
   ]
  },
  {
   "cell_type": "markdown",
   "metadata": {},
   "source": [
    "### 5. Set up the interactive_output function."
   ]
  },
  {
   "cell_type": "code",
   "execution_count": 5,
   "metadata": {},
   "outputs": [
    {
     "data": {
      "image/png": "[encoded data removed]",
      "text/plain": [
       "<Figure size 432x288 with 1 Axes>"
      ]
     },
     "metadata": {
      "needs_background": "light"
     },
     "output_type": "display_data"
    }
   ],
   "source": [
    "plot_out = widgets.interactive_output(update_plot,\n",
    "                                      dict(\n",
    "                                      omega=omega_w,\n",
    "                                      )\n",
    "                                     )"
   ]
  },
  {
   "cell_type": "markdown",
   "metadata": {},
   "source": [
    "### 6. Make the layout of the widgets."
   ]
  },
  {
   "cell_type": "code",
   "execution_count": 6,
   "metadata": {},
   "outputs": [],
   "source": [
    "UI_box = VBox([omega_w, plot_out])"
   ]
  },
  {
   "cell_type": "markdown",
   "metadata": {},
   "source": [
    "### 7. Release the Kraken!"
   ]
  },
  {
   "cell_type": "code",
   "execution_count": 7,
   "metadata": {
    "scrolled": true
   },
   "outputs": [
    {
     "data": {
      "application/vnd.jupyter.widget-view+json": {
       "model_id": "aac53d4417034056b6319f84dae8651b",
       "version_major": 2,
       "version_minor": 0
      },
      "text/plain": [
       "VBox(children=(FloatSlider(value=1.0, description='$\\\\omega$ :', max=10.0, min=0.1), Output()))"
      ]
     },
     "metadata": {},
     "output_type": "display_data"
    }
   ],
   "source": [
    "display(UI_box)   "
   ]
  },
  {
   "cell_type": "markdown",
   "metadata": {},
   "source": [
    "Try moving the slider.  Note how the figure updates while you are still moving the slider -- we'll suppress this in the second pass with `continuous_update = False`."
   ]
  },
  {
   "cell_type": "markdown",
   "metadata": {},
   "source": [
    "## Second pass: More elaborate controls and options"
   ]
  },
  {
   "cell_type": "markdown",
   "metadata": {},
   "source": [
    "### 1. Import ipywidgets and Ipython.display"
   ]
  },
  {
   "cell_type": "code",
   "execution_count": 8,
   "metadata": {},
   "outputs": [],
   "source": [
    "# Import explicitly the widgets we might use (add more as needed!) \n",
    "import ipywidgets as widgets\n",
    "from ipywidgets import HBox, VBox, Layout, Tab, Label, Checkbox\n",
    "from ipywidgets import FloatSlider, IntSlider, Play, Dropdown, HTMLMath \n",
    "\n",
    "from IPython.display import display"
   ]
  },
  {
   "cell_type": "markdown",
   "metadata": {},
   "source": [
    "### 2. Create a function with all inputs that makes the output figure(s)."
   ]
  },
  {
   "cell_type": "code",
   "execution_count": 9,
   "metadata": {},
   "outputs": [],
   "source": [
    "# This is a proxy for whatever calculations we need to do for the figure. \n",
    "def my_function(t, A=1., omega=1., phi=0.):\n",
    "    \"\"\"Just a sine function with adjustable amplitude, frequency, and phase\n",
    "    \"\"\"\n",
    "    return A * np.sin(omega * t + phi)\n",
    "    \n",
    "\n",
    "def update_plot(omega=1.0, A=1., phi=0., \n",
    "                t_min=0., t_max=2.*np.pi, num_t=200,\n",
    "                lw=2, color='blue'\n",
    "               ):\n",
    "    \"\"\"\n",
    "    Update the plot, which includes a call to a function.\n",
    "    Note that the entire plot is redrawn here.\n",
    "    Now all the parameters controlling the plot are inputs to the function.\n",
    "    \"\"\"\n",
    "    t_pts = np.linspace(t_min, t_max, num_t)\n",
    "    \n",
    "    fig = plt.figure()\n",
    "    ax = fig.add_subplot(1, 1, 1)\n",
    "    line, = ax.plot(t_pts, my_function(t_pts, omega=omega, A=A, phi=phi),\n",
    "                    lw=lw, color=color)\n",
    "    ax.set_xlabel(r'$t$')\n",
    "    ax.set_ylabel(r'$f(t)$')\n",
    "    "
   ]
  },
  {
   "cell_type": "markdown",
   "metadata": {},
   "source": [
    "### 3. Make a widget for each value you want to control."
   ]
  },
  {
   "cell_type": "code",
   "execution_count": 10,
   "metadata": {},
   "outputs": [],
   "source": [
    "slider_border = Layout(border='solid 1.0px')\n",
    "\n",
    "def float_widget(value, min, max, step, description, format):\n",
    "    \"\"\"Makes a FloatSlider with the passed parameters and continuous_update\n",
    "       set to False.\"\"\"\n",
    "    return FloatSlider(value=value, min=min, max=max, step=step,\n",
    "                       disabled=False,\n",
    "                       description=description, continuous_update=False,\n",
    "                       orientation='horizontal', layout=slider_border,\n",
    "                       readout=True, readout_format=format)\n",
    "\n",
    "\n",
    "omega_w = float_widget(value=1.0, min=0.1, max=10., step=0.1,\n",
    "                       description=r'$\\omega$ :', format='.1f')\n",
    "\n",
    "A_w = float_widget(value=1.0, min=0.1, max=10., step=0.1,\n",
    "                       description=r'$A$ :', format='.1f')\n",
    "\n",
    "phi_w = float_widget(value=0.0, min=-10., max=10., step=0.1,\n",
    "                       description=r'$\\phi$ :', format='.1f')\n",
    "\n",
    "t_min_w = float_widget(value=0.0, min=0.0, max=10., step=0.1,\n",
    "                       description=r'$t_{\\rm min}$ :', format='.1f')\n",
    "\n",
    "t_max_w = float_widget(value=20.0, min=5., max=50., step=0.1,\n",
    "                       description=r'$t_{\\rm max}$ :', format='.1f')\n",
    "\n",
    "num_t_w = IntSlider(value=200, min=50, max=500, step=10,\n",
    "                    continuous_update=False,\n",
    "                    description=r'num $t$ :', layout=slider_border)\n",
    "\n"
   ]
  },
  {
   "cell_type": "markdown",
   "metadata": {},
   "source": [
    "### 4.  Make any explicit callback functions and add .observe methods."
   ]
  },
  {
   "cell_type": "code",
   "execution_count": 11,
   "metadata": {},
   "outputs": [],
   "source": [
    "# Make sure that t_max is at least t_min + 1\n",
    "def update_t_max(*args):\n",
    "    if t_max_w.value < t_min_w.value:\n",
    "        t_max_w.value = t_min_w.value + 1.     \n",
    "t_max_w.observe(update_t_max, 'value')\n",
    "t_min_w.observe(update_t_max, 'value')\n"
   ]
  },
  {
   "cell_type": "markdown",
   "metadata": {},
   "source": [
    "### 5. Set up the interactive_output function."
   ]
  },
  {
   "cell_type": "code",
   "execution_count": 12,
   "metadata": {},
   "outputs": [
    {
     "data": {
      "image/png": "[encoded data removed]",
      "text/plain": [
       "<Figure size 432x288 with 1 Axes>"
      ]
     },
     "metadata": {
      "needs_background": "light"
     },
     "output_type": "display_data"
    }
   ],
   "source": [
    "plot_out = widgets.interactive_output(update_plot,\n",
    "                                      dict(\n",
    "                                      omega=omega_w,\n",
    "                                      A=A_w,\n",
    "                                      phi=phi_w,\n",
    "                                      t_min=t_min_w,\n",
    "                                      t_max=t_max_w,\n",
    "                                      num_t=num_t_w,\n",
    "                                      )\n",
    "                                     )"
   ]
  },
  {
   "cell_type": "markdown",
   "metadata": {},
   "source": [
    "### 6. Make the layout of the widgets."
   ]
  },
  {
   "cell_type": "code",
   "execution_count": 13,
   "metadata": {},
   "outputs": [],
   "source": [
    "hbox_1 = HBox([t_min_w, t_max_w, num_t_w])\n",
    "hbox_2 = HBox([omega_w, A_w, phi_w])\n",
    "UI_box = VBox([hbox_1, hbox_2, plot_out])"
   ]
  },
  {
   "cell_type": "markdown",
   "metadata": {},
   "source": [
    "### 7. Release the Kraken!"
   ]
  },
  {
   "cell_type": "code",
   "execution_count": 14,
   "metadata": {
    "scrolled": false
   },
   "outputs": [
    {
     "data": {
      "application/vnd.jupyter.widget-view+json": {
       "model_id": "f202d4c4597a44f7b19d55659413aa8a",
       "version_major": 2,
       "version_minor": 0
      },
      "text/plain": [
       "VBox(children=(HBox(children=(FloatSlider(value=0.0, continuous_update=False, description='$t_{\\\\rm min}$ :', …"
      ]
     },
     "metadata": {},
     "output_type": "display_data"
    }
   ],
   "source": [
    "display(UI_box)   "
   ]
  },
  {
   "cell_type": "code",
   "execution_count": null,
   "metadata": {},
   "outputs": [],
   "source": []
  },
  {
   "cell_type": "markdown",
   "metadata": {},
   "source": [
    "## Third pass:  a more elaborate user interface with tabs"
   ]
  },
  {
   "cell_type": "markdown",
   "metadata": {},
   "source": [
    "### 1. Import ipywidgets and Ipython.display"
   ]
  },
  {
   "cell_type": "code",
   "execution_count": 15,
   "metadata": {},
   "outputs": [],
   "source": [
    "# Import explicitly the widgets we might use (add more as needed!) \n",
    "import ipywidgets as widgets\n",
    "from ipywidgets import HBox, VBox, Layout, Tab, Label, Checkbox, Button\n",
    "from ipywidgets import FloatSlider, IntSlider, Play, Dropdown, HTMLMath \n",
    "\n",
    "from IPython.display import display"
   ]
  },
  {
   "cell_type": "markdown",
   "metadata": {},
   "source": [
    "### 2. Create a function with all inputs that makes the output figure(s)."
   ]
  },
  {
   "cell_type": "code",
   "execution_count": 16,
   "metadata": {},
   "outputs": [],
   "source": [
    "# This is a proxy for whatever calculations we need to do for the figure. \n",
    "def my_function(t, A=1., omega=1., phi=0.):\n",
    "    \"\"\"Just a sine function with adjustable amplitude, frequency, and phase\n",
    "    \"\"\"\n",
    "    return A * np.sin(omega * t + phi)\n",
    "    \n",
    "\n",
    "def update_plot(omega=1.0, A=1., phi=0., \n",
    "                t_min=0., t_max=2.*np.pi, num_t=200,\n",
    "                lw=2, color='blue',\n",
    "                font_size=18\n",
    "               ):\n",
    "    \"\"\"\n",
    "    Update the plot, which includes a call to a function.\n",
    "    Note that the entire plot is redrawn here.\n",
    "    Now all the parameters controlling the plot are inputs to the function.\n",
    "    \"\"\"\n",
    "    t_pts = np.linspace(t_min, t_max, num_t)\n",
    "    \n",
    "    # Update the common font size\n",
    "    plt.rcParams.update({'font.size': font_size})\n",
    "\n",
    "    fig = plt.figure()\n",
    "    ax = fig.add_subplot(1, 1, 1)\n",
    "    line, = ax.plot(t_pts, my_function(t_pts, omega=omega, A=A, phi=phi),\n",
    "                    lw=lw, color=color)\n",
    "    ax.set_xlabel(r'$t$')\n",
    "    ax.set_ylabel(r'$f(t)$')\n",
    "    "
   ]
  },
  {
   "cell_type": "markdown",
   "metadata": {},
   "source": [
    "### 3. Make a widget for each value you want to control."
   ]
  },
  {
   "cell_type": "code",
   "execution_count": 17,
   "metadata": {},
   "outputs": [],
   "source": [
    "slider_border = Layout(border='solid 1.0px')\n",
    "\n",
    "def float_widget(value, min, max, step, description, format):\n",
    "    \"\"\"Makes a FloatSlider with the passed parameters and continuous_update\n",
    "       set to False.\"\"\"\n",
    "    return FloatSlider(value=value, min=min, max=max, step=step,\n",
    "                       disabled=False,\n",
    "                       description=description, continuous_update=False,\n",
    "                       orientation='horizontal', layout=slider_border,\n",
    "                       readout=True, readout_format=format)\n",
    "\n",
    "\n",
    "omega_w = float_widget(value=1.0, min=0.1, max=10., step=0.1,\n",
    "                       description=r'$\\omega$ :', format='.1f')\n",
    "\n",
    "A_w = float_widget(value=1.0, min=0.1, max=10., step=0.1,\n",
    "                       description=r'$A$ :', format='.1f')\n",
    "\n",
    "phi_w = float_widget(value=0.0, min=-10., max=10., step=0.1,\n",
    "                       description=r'$\\phi$ :', format='.1f')\n",
    "\n",
    "t_min_w = float_widget(value=0.0, min=0.0, max=10., step=0.1,\n",
    "                       description=r'$t_{\\rm min}$ :', format='.1f')\n",
    "\n",
    "t_max_w = float_widget(value=20.0, min=5., max=50., step=0.1,\n",
    "                       description=r'$t_{\\rm max}$ :', format='.1f')\n",
    "\n",
    "num_t_w = IntSlider(value=200, min=50, max=500, step=10,\n",
    "                    continuous_update=False,\n",
    "                    description=r'num $t$ :', layout=slider_border)\n",
    "\n",
    "################### begin: text ##################\n",
    "initial_text = \\\n",
    "    r\"\"\"\n",
    "    The graph shows a sine wave specified by an amplitude, frequency,\n",
    "    and phase.  All are adjustable.\n",
    "    \"\"\"\n",
    "initial_text_w = HTMLMath(value=initial_text)\n",
    "\n",
    "times_overview_text = \\\n",
    "    r\"\"\"\n",
    "    Adjust the sliders to set the range in time $t$ that is plotted\n",
    "    and the number of points plotted.\n",
    "    \"\"\"\n",
    "times_overview_text_w = HTMLMath(value=times_overview_text)\n",
    "################### end: text ##################\n",
    "\n",
    "\n",
    "# Widgets for the set-up parameters\n",
    "font_size_w = Dropdown(options=['12', '16', '18', '20', '24'], value='18',\n",
    "                       description='Font size:',disabled=False,\n",
    "                       continuous_update=False,layout=Layout(width='140px'))\n",
    "\n",
    "################### begin: text for help tabs ##################\n",
    "# In HTML (could move this to an external file!)\n",
    "overview_text = \\\n",
    "   r\"\"\"<p>Here we give an example of how to display a function with \n",
    "           controls.</p>  \n",
    "          <ul>\n",
    "            <li>Parameters tab: find out how to specify the function.\n",
    "            <li>Times tab: find out what the controls do.\n",
    "            <li>Setup tab: change how the plots are made.\n",
    "          </ul>      \n",
    "    \"\"\" \n",
    "\n",
    "parameters_text = \\\n",
    "    r\"\"\"\n",
    "    We are plotting this function:\n",
    "    $$\n",
    "    A \\sin(\\omega t + \\phi)\n",
    "    $$\n",
    "    \"\"\"\n",
    "\n",
    "times_text = \\\n",
    "    r\"\"\"\n",
    "    You get to decide the range of time $t$!\n",
    "    \"\"\"\n",
    "\n",
    "setup_text = \\\n",
    "    r\"\"\"\n",
    "    For now, just an adjustment to the font size used for the plot.\n",
    "    \"\"\"\n",
    "################### end: text for help tabs ##################\n",
    "\n",
    "\n",
    "# Widgets for the help section, which are HTMLMath boxes in a Tab widget\n",
    "help_overview_w = HTMLMath(value=overview_text)\n",
    "help_parameters_w = HTMLMath(value=parameters_text)\n",
    "help_times_w = HTMLMath(value=times_text)\n",
    "help_setup_w = HTMLMath(value=setup_text)\n"
   ]
  },
  {
   "cell_type": "markdown",
   "metadata": {},
   "source": [
    "### 4.  Make any explicit callback functions and add .observe methods."
   ]
  },
  {
   "cell_type": "code",
   "execution_count": 18,
   "metadata": {},
   "outputs": [],
   "source": [
    "# Make sure that t_max is at least t_min + 1\n",
    "def update_t_max(*args):\n",
    "    if t_max_w.value < t_min_w.value:\n",
    "        t_max_w.value = t_min_w.value + 1.     \n",
    "t_max_w.observe(update_t_max, 'value')\n",
    "t_min_w.observe(update_t_max, 'value')\n"
   ]
  },
  {
   "cell_type": "markdown",
   "metadata": {},
   "source": [
    "### 5. Set up the interactive_output function."
   ]
  },
  {
   "cell_type": "code",
   "execution_count": 19,
   "metadata": {},
   "outputs": [
    {
     "data": {
      "image/png": "[encoded data removed]",
      "text/plain": [
       "<Figure size 432x288 with 1 Axes>"
      ]
     },
     "metadata": {
      "needs_background": "light"
     },
     "output_type": "display_data"
    }
   ],
   "source": [
    "plot_out = widgets.interactive_output(update_plot,\n",
    "                                      dict(\n",
    "                                      omega=omega_w,\n",
    "                                      A=A_w,\n",
    "                                      phi=phi_w,\n",
    "                                      t_min=t_min_w,\n",
    "                                      t_max=t_max_w,\n",
    "                                      num_t=num_t_w,\n",
    "                                      font_size=font_size_w,\n",
    "                                      )\n",
    "                                     )"
   ]
  },
  {
   "cell_type": "markdown",
   "metadata": {},
   "source": [
    "### 6. Make the layout of the widgets."
   ]
  },
  {
   "cell_type": "code",
   "execution_count": 20,
   "metadata": {},
   "outputs": [],
   "source": [
    "\n",
    "# Organize the help as Tabs (which will itself be under the Help Tab)\n",
    "help_max_height = '500px'\n",
    "help_tab = Tab(children=[help_overview_w, help_parameters_w, help_times_w, \n",
    "                         help_setup_w], \n",
    "               layout=Layout(width='95%', max_height=help_max_height))\n",
    "help_tab.set_title(0, 'Overview')\n",
    "help_tab.set_title(1, 'Parameters')\n",
    "help_tab.set_title(2, 'Times')\n",
    "help_tab.set_title(3, 'Set-up')\n",
    "\n",
    "# Boxes of widgets that will go into the top-level tabs\n",
    "textbox0 = HBox([initial_text_w])\n",
    "hbox0 = HBox([omega_w, A_w, phi_w])\n",
    "textbox1 = HBox([times_overview_text_w])\n",
    "hbox1a = HBox([t_min_w, t_max_w])\n",
    "hbox1b = HBox([num_t_w])\n",
    "hbox2 = HBox([font_size_w]) # font size\n",
    "hbox3 = HBox([help_tab])\n",
    "\n",
    "# We'll set up Tabs to organize the controls.  The Tab contents are declared\n",
    "#  as tab0, tab1, ... (could also make this a list) and the overall Tab\n",
    "#  is called tab (so its children are tab0, tab1, ...).\n",
    "tab_height = '70px'  # Fixed minimum height for all tabs. \n",
    "tab0 = VBox([textbox0, hbox0], layout=Layout(min_height=tab_height))\n",
    "tab1 = VBox([textbox1, hbox1a, hbox1b], layout=Layout(min_height=tab_height))\n",
    "tab2 = VBox([hbox2], layout=Layout(min_height=tab_height))\n",
    "tab3 = VBox([hbox3], layout=Layout(min_height=tab_height))\n",
    "\n",
    "tab = Tab(children=[tab0, tab1, tab2, tab3])\n",
    "tab.set_title(0, 'Parameters')\n",
    "tab.set_title(1, 'Time limits')\n",
    "tab.set_title(2, 'Set-up')\n",
    "tab.set_title(3, 'Help')\n",
    "\n",
    "UI_box = VBox([tab, plot_out])"
   ]
  },
  {
   "cell_type": "markdown",
   "metadata": {},
   "source": [
    "### 7. Release the Kraken!"
   ]
  },
  {
   "cell_type": "code",
   "execution_count": 21,
   "metadata": {
    "scrolled": false
   },
   "outputs": [
    {
     "data": {
      "application/vnd.jupyter.widget-view+json": {
       "model_id": "ff7669cadf41499faff1f086727aed26",
       "version_major": 2,
       "version_minor": 0
      },
      "text/plain": [
       "VBox(children=(Tab(children=(VBox(children=(HBox(children=(HTMLMath(value='\\n    The graph shows a sine wave s…"
      ]
     },
     "metadata": {},
     "output_type": "display_data"
    },
    {
     "data": {
      "image/png": "[encoded data removed]",
      "text/plain": [
       "<Figure size 432x288 with 1 Axes>"
      ]
     },
     "metadata": {
      "needs_background": "light"
     },
     "output_type": "display_data"
    },
    {
     "data": {
      "image/png": "[encoded data removed]",
      "text/plain": [
       "<Figure size 432x288 with 1 Axes>"
      ]
     },
     "metadata": {
      "needs_background": "light"
     },
     "output_type": "display_data"
    }
   ],
   "source": [
    "display(UI_box)   "
   ]
  },
  {
   "cell_type": "code",
   "execution_count": null,
   "metadata": {},
   "outputs": [],
   "source": []
  }
 ],
 "metadata": {
  "kernelspec": {
   "display_name": "Python 3 (ipykernel)",
   "language": "python",
   "name": "python3"
  },
  "language_info": {
   "codemirror_mode": {
    "name": "ipython",
    "version": 3
   },
   "file_extension": ".py",
   "mimetype": "text/x-python",
   "name": "python",
   "nbconvert_exporter": "python",
   "pygments_lexer": "ipython3",
   "version": "3.9.6"
  }
 },
 "nbformat": 4,
 "nbformat_minor": 2
}
