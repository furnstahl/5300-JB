{
 "cells": [
  {
   "cell_type": "markdown",
   "metadata": {},
   "source": [
    "# Logistic map explorations (Taylor and beyond)\n",
    "\n",
    "Adapted by Dick Furnstahl from the Ipython Cookbook by Cyrille Rossant.\n",
    "Lyapunov plot modified on 29-Jan-2019 after discussion with Michael Heinz.\n",
    "\n",
    "Here we consider the *logistic map*, which illustrates how chaos can arise from a simple nonlinear equation.  The logistic map models the evolution of a population including reproduction and mortality (see Taylor section 12.9).\n",
    "\n",
    "The defining function for the logistic map is\n",
    "\n",
    "$ f_r(x) = r x (1-x) \\;, $\n",
    "\n",
    "where $r$ is the control parameter analogous to $\\gamma$ for the damped, driven pendulum.  To study the pendulum, we looked at $\\phi(t)$ at $t_0$, $t_0 + \\tau$, $t_0 + 2\\tau$, and so on, where $\\tau$ is the driving frequency and we found $\\phi(t_0 + \\tau)$ from $\\phi(t_0)$ by solving the differential equation for the pendulum.  After transients had died off, we characterized the value of $\\gamma$ being considered by the periodicity of the $\\phi(t_n)$ values: period one (all the same), period two (alternating), chaotic (no repeats) and so on.\n",
    "\n",
    "Here instead of a differential equation telling us how to generate a trajectory, we use $f_r(x)$:\n",
    "\n",
    "$\\begin{align}\n",
    "  x_1 = f_r(x_0) \\ \\rightarrow\\ x_2 = f_r(x_1) \\ \\rightarrow\\  x_3 = f_r(x_2) \\ \\rightarrow\\  \\ldots\n",
    "\\end{align}$\n",
    "\n",
    "There will be transients at the beginning, but this sequence of $x_i$ values may reach a point $x = x^*$ such that $f(x^*) = x^*$. We call this a *fixed point*.  If instead it ends up bouncing between two values of $x$, it is period two and we call it a two-cycle.  We can have a cascade of period doubling, as found for the damped, driven pendulum, leading to chaos, which is characterized by the mapping never repeating.  We can make a corresponding bifurcation diagram and identify Lyapunov exponents for each initial condition and $r$."
   ]
  },
  {
   "cell_type": "markdown",
   "metadata": {},
   "source": [
    "To adapt this notebook to a different map (such as the sine map), you will need to:\n",
    "* Change the map function and its derivative.\n",
    "* Change the range of the $r$ parameter to an appropriate range for the new map.\n",
    "* Possibly change the initial $x$ value ($x_0$).\n",
    "* Modify the limits of the plots appropriately."
   ]
  },
  {
   "cell_type": "code",
   "execution_count": null,
   "metadata": {},
   "outputs": [],
   "source": [
    "%matplotlib inline\n",
    "\n",
    "# standard numpy and matplotlib imports\n",
    "import numpy as np\n",
    "import matplotlib.pyplot as plt\n"
   ]
  },
  {
   "cell_type": "code",
   "execution_count": null,
   "metadata": {},
   "outputs": [],
   "source": [
    "def logistic(r, x):\n",
    "    \"\"\"Logistic map function: f(x) = r x(1-x)\n",
    "    \"\"\"\n",
    "    return r * x * (1.-x)\n",
    "\n",
    "def logistic_deriv(r, x):\n",
    "    \"\"\"Logistic map derivative: f'(x) = r(1-2x)\n",
    "    \"\"\"\n",
    "    return r * (1. - 2.*x)"
   ]
  },
  {
   "cell_type": "markdown",
   "metadata": {},
   "source": [
    "## Explore the logistic map and its fixed points\n",
    "\n",
    "Start with a simple plot of the logistic function.  **What does changing $r$ do?**"
   ]
  },
  {
   "cell_type": "code",
   "execution_count": null,
   "metadata": {},
   "outputs": [],
   "source": [
    "x, step = np.linspace(0,1, num=101, endpoint=True, retstep=True)\n",
    "fig = plt.figure()\n",
    "ax = fig.add_subplot(1,1,1)\n",
    "\n",
    "r_param = 2\n",
    "ax.plot(x, logistic(r_param, x), 'k-')\n",
    "ax.set_xlabel('x')\n",
    "ax.set_ylabel('f(x)')\n",
    "\n",
    "fig.tight_layout()"
   ]
  },
  {
   "cell_type": "markdown",
   "metadata": {},
   "source": [
    "Make plots showing the approach to fixed points.  \n",
    "\n",
    "**Play with the number of steps taken and the values of $r$.**  \n",
    "1. **Increase the number of steps in the plots to more cleanly identify the long-time trend for that value of $r$.**\n",
    "2. **Try smaller values of $r$.  Are there always non-zero fixed points for small $r$?**\n"
   ]
  },
  {
   "cell_type": "code",
   "execution_count": null,
   "metadata": {},
   "outputs": [],
   "source": [
    "def plot_system(r, x0, n, ax=None):\n",
    "    \"\"\"Plot the function and the y=x diagonal line.\"\"\"\n",
    "    t = np.linspace(0,1, num=101)\n",
    "    ax.plot(t, logistic(r,t), 'k', lw=2)  # black, linewidth 2\n",
    "    ax.plot([0,1], [0,1], 'k', lw=2)  # x is an array of 0 and 1, \n",
    "                                      # y is the same array, so this plots \n",
    "                                      #  a straight line from (0,0) to (1,1).\n",
    "    \n",
    "    # Recursively apply y=f(x) and plot two additional straight lines:\n",
    "    #   line from (x, x) to (x, y)\n",
    "    #   line from (x, y) to (y, y)\n",
    "    x = x0\n",
    "    for i in range(n):   # do n iterations, i = 0, 1, ..., n-1\n",
    "        y = logistic(r, x)\n",
    "        # Plot the two lines\n",
    "        ax.plot([x,x], [x,y], color='blue', lw=1)\n",
    "        ax.plot([x,y], [y,y], color='blue', lw=1)\n",
    "        # Plot the positions with increasing opacity of the circles\n",
    "        ax.plot([x], [y], 'or', ms=10, alpha=(i+1)/n)\n",
    "        x = y  # recursive: reset x to y for the next iteration\n",
    "    ax.set_xlim(0,1)\n",
    "    ax.set_ylim(0,1)\n",
    "    ax.set_title(f'$r={r:.1f}$, $x_0={x0:.1f}$')\n",
    "                \n",
    "fig = plt.figure(figsize=(12,12))\n",
    "\n",
    "ax1 = fig.add_subplot(2,2,1)\n",
    "# start at 0.1, r parameter is 2.5, take n steps\n",
    "plot_system(r=2.5, x0=0.1, n=10, ax=ax1)  \n",
    "\n",
    "ax2 = fig.add_subplot(2,2,2)\n",
    "# start at 0.1, r parameter is 3.2, take n steps\n",
    "plot_system(r=3.2, x0=0.1, n=10, ax=ax2)\n",
    "\n",
    "ax3 = fig.add_subplot(2,2,3)\n",
    "# start at 0.1, r parameter is 2.6, take n steps\n",
    "plot_system(r=3.5, x0=0.1, n=10, ax=ax3)\n",
    "\n",
    "ax4 = fig.add_subplot(2,2,4)\n",
    "# start at 0.1, r parameter is 3.7, take n steps\n",
    "plot_system(r=3.7, x0=0.1, n=10, ax=ax4)"
   ]
  },
  {
   "cell_type": "markdown",
   "metadata": {},
   "source": [
    "**What periods do these exhibit?  Are any chaotic?** "
   ]
  },
  {
   "cell_type": "markdown",
   "metadata": {},
   "source": [
    "## Find the unstable point numerically"
   ]
  },
  {
   "cell_type": "markdown",
   "metadata": {},
   "source": [
    "To find the value of $r$ at which the second fixed point becomes unstable, we must solve simultaneously the equations (see Taylor 12.9 in the \"A Test for Stability\" subsection):\n",
    "\n",
    "$\\begin{align}\n",
    "  &f_r(x^*) = x^* \\\\\n",
    "  &f_r'(x^*) = -1\n",
    "\\end{align}$\n",
    "\n",
    "where $f'$ means the derivative with respect to $x$, or\n",
    "\n",
    "$\\begin{align}\n",
    "  &f_r(x^*) - x^* = 0 \\\\\n",
    "  &f_r'(x^*) + 1 = 0\n",
    "\\end{align}$\n",
    "\n",
    "It is the latter form of the equations that we will pass to the \n",
    "scipy function `fsolve` to find the values of $r$ and $x*$."
   ]
  },
  {
   "cell_type": "code",
   "execution_count": null,
   "metadata": {},
   "outputs": [],
   "source": [
    "from scipy.optimize import fsolve  # Google this to learn more!\n",
    "\n",
    "def equations(passed_args):\n",
    "    \"\"\"Return the two expressions that must equal to zero.\"\"\"\n",
    "    r, x = passed_args\n",
    "    return (logistic(r, x) - x, logistic_deriv(r, x) + 1)\n",
    "\n",
    "# Call fsolve with initial values for r and x\n",
    "r, x = fsolve(equations, (0.5, 0.5))\n",
    "\n",
    "print_string = f'x* = {x:.10f},  r = {r:.10f}'\n",
    "print(print_string)"
   ]
  },
  {
   "cell_type": "markdown",
   "metadata": {},
   "source": [
    "**Verify analytically that these are the correct values for the logistic map.**  We use this same procedure for other maps where only numerical solutions are known. "
   ]
  },
  {
   "cell_type": "markdown",
   "metadata": {},
   "source": [
    "## Now make the bifurcation diagram and calculate Lyapunov exponents"
   ]
  },
  {
   "cell_type": "markdown",
   "metadata": {},
   "source": [
    "To make a bifurcation diagram, we:\n",
    "* define an array of closely spaced $r$ values;\n",
    "* for each $r$, iterate the map $x_{i+1} = f_r(x_i)$ a large number of times (e.g., 1000) to ensure convergence;\n",
    "* plot the last 100 or so iterations as points at each $r$."
   ]
  },
  {
   "cell_type": "markdown",
   "metadata": {},
   "source": [
    "To think about how to calculate a Lyapunov exponent, consider two iterations of the map starting from two values of $x$ that are close together.  Call these initial values $x_0$ and $x_0 + \\delta x_0$.  These are mapped by $f_r$ to $x_1$ and  $x_1 + \\delta x_1$, then $x_2$ and $x_2 + \\delta x_2$, up to $x_n + \\delta x_n$. \n",
    "\n",
    "How are the $\\delta x_i$ related?  Each $\\delta x_i$ is small, so use a Taylor expansion!\n",
    "Expanding $f(x)$ about $x_n$:\n",
    "\n",
    "$\\begin{align}\n",
    "  f(x_i &+ \\delta x_i) = &f(x_i) + \\delta x_i f'(x_i) + \\frac{1}{2}(\\delta x_i)^2 f''(x_i) + \\cdots \\\\\n",
    "\\end{align}$\n",
    "\n",
    "so, neglecting terms of order $(\\delta x_i)^2$ and higher, \n",
    "\n",
    "$\\begin{align}\n",
    "    x_{i+1} + \\delta x_{i+1} \\approx x_{i+1} + \\delta x_i f'(x_i)\n",
    "    \\quad\\mbox{or}\\quad  \\delta x_{i+1} \\approx f'(x_i)\\, \\delta x_i \\;.\n",
    "\\end{align}$\n",
    "\n",
    "Iterating this result we get\n",
    "\n",
    "$\\begin{align}\n",
    "  \\delta x_1 &= f'(x_0)\\, \\delta x_0  \\\\\n",
    "  \\delta x_2 &= f'(x_1)\\, \\delta x_1 = f'(x_1)\\times f'(x_0)\\, \\delta x_0  \\\\\n",
    "  & \\qquad\\vdots  \\\\\n",
    "  |\\delta x_n| &= \\left(\\prod_{i=0}^{n-1} |f'(x_i)|\\right) |\\delta x_0| \\;,\n",
    "\\end{align}$\n",
    "\n",
    "where the last equation gives us the separation of two trajectories after $n$ steps $\\delta x_n$ in terms of their\n",
    "initial separation, $\\delta x_0$.  (Why can we just take the absolute value of all the terms?)\n",
    "\n",
    "We expect that this will vary exponentially at large $n$ like\n",
    "\n",
    "$\\begin{align}\n",
    "  \\left| \\frac{\\delta x_n}{\\delta x_0} \\right| = e^{\\lambda n}\n",
    "\\end{align}$\n",
    "\n",
    "and so we define the Lypunov exponent $\\lambda$ by\n",
    "\n",
    "$\\begin{align}\n",
    "  \\lambda = \\lim_{n\\rightarrow\\infty} \\frac{1}{n} \\sum_{i=1}^{n} \\ln |f'(x_i)| \\;,\n",
    "\\end{align}$\n",
    "\n",
    "which in practice is well approximated by the sum for large $n$.\n",
    "\n",
    "If $\\lambda > 0$, then nearby trajectories diverge from each other exponentially at large $n$, which corresponds to chaos. However, if the\n",
    "trajectories converge to a fixed point or a limit cycle, they will get closer together with increasing $n$, which corresponds to $\\lambda<0$."
   ]
  },
  {
   "cell_type": "markdown",
   "metadata": {},
   "source": [
    "Ok, let's do it!"
   ]
  },
  {
   "cell_type": "code",
   "execution_count": null,
   "metadata": {},
   "outputs": [],
   "source": [
    "n = 10000   \n",
    "# Here we'll use n values of r linearly spaced between 2.8 and 4.0\n",
    "###  You may want to change the range of r for other maps\n",
    "r = np.linspace(2.8, 4.0, n)  \n",
    "\n",
    "iterations = 1000   # iterations of logistic map; keep last iterations\n",
    "last = 100          #  where results should have stabilized\n",
    "\n",
    "x = 0.1 * np.ones(n)  # x_0 initial condition \n",
    "                      ### (you may want to change for other maps)\n",
    "\n",
    "lyapunov = np.zeros(n) # initialize vector used for the Lyapunov sums"
   ]
  },
  {
   "cell_type": "code",
   "execution_count": null,
   "metadata": {},
   "outputs": [],
   "source": [
    "fig = plt.figure(figsize=(8,9))\n",
    "ax1 = fig.add_subplot(2,1,1)   # bifurcation diagram\n",
    "ax2 = fig.add_subplot(2,1,2)   # Lyapunov exponent\n",
    "\n",
    "# Display the bifurcation diagram with one pixel per point x_n^(r) for last iterations\n",
    "for i in range(iterations):\n",
    "    x = logistic(r,x)  # just iterate: x_{i+1} = f_r(x_i)\n",
    "    \n",
    "    # Compute the partial sum of the Lyapunov exponent, which is the sum\n",
    "    #  of derivatives of the logistic function (absolute value)\n",
    "    lyapunov += np.log(abs(logistic_deriv(r,x)))\n",
    "    # Display the bifurcation diagram.\n",
    "    if i >= (iterations-last):  # only plot the last iterations \n",
    "        ax1.plot(r, x, ',k', alpha=0.25)\n",
    "ax1.set_xlim(2.8, 4)\n",
    "ax1.set_xlabel(r'$r$')\n",
    "ax1.set_title(\"Bifurcation\")\n",
    "\n",
    "# Display the Lyapunov exponent\n",
    "\n",
    "# Negative Lyapunov exponent\n",
    "ax2.plot(r[lyapunov < 0], \n",
    "         lyapunov[lyapunov < 0] / iterations, 'o',\n",
    "         color='black', alpha=0.5, ms=0.5)\n",
    "# Positive Lyapunov exponent\n",
    "ax2.plot(r[lyapunov >= 0], \n",
    "         lyapunov[lyapunov >= 0] / iterations, 'o',\n",
    "         color='red', alpha=0.5, ms=0.5)\n",
    "\n",
    "# Add a zero line (lightened with alpha=0.5)\n",
    "ax2.axhline(0, color='k', lw=0.5, alpha=0.5)\n",
    "\n",
    "ax2.set_xlim(2.8, 4)\n",
    "ax2.set_ylim(-2, 1)\n",
    "ax2.set_xlabel(r'$r$')\n",
    "ax2.set_title(\"Lyapunov exponent\")\n",
    "\n",
    "plt.tight_layout()"
   ]
  },
  {
   "cell_type": "markdown",
   "metadata": {},
   "source": [
    "We see there is a fixed point for $r < 3$, then two and four periods and a chaotic behavior when $r$ belongs to certain areas of the parameter space.  **Do the values of $r$ where these behaviors occur agree with what you found in the plots with particular $r$ values?** \n",
    "\n",
    "As for the pendulum, the Lyapunov exponent is positive when the system is chaotic (in red).  **Do these regions look consistent with the characteristics of chaos?**"
   ]
  },
  {
   "cell_type": "code",
   "execution_count": null,
   "metadata": {},
   "outputs": [],
   "source": []
  }
 ],
 "metadata": {
  "kernelspec": {
   "display_name": "Python 3 (ipykernel)",
   "language": "python",
   "name": "python3"
  },
  "language_info": {
   "codemirror_mode": {
    "name": "ipython",
    "version": 3
   },
   "file_extension": ".py",
   "mimetype": "text/x-python",
   "name": "python",
   "nbconvert_exporter": "python",
   "pygments_lexer": "ipython3",
   "version": "3.9.9"
  }
 },
 "nbformat": 4,
 "nbformat_minor": 2
}
