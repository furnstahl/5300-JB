{
 "cells": [
  {
   "cell_type": "markdown",
   "metadata": {},
   "source": [
    "# Liouville Theorem Visualization\n",
    "\n",
    "HamiltonianPendulum class to generate basic pendulum plots, applied to problems from Taylor, but now solving using Hamilton's equations.\n",
    "\n",
    "* Last revised 16-Mar-2019 by Dick Furnstahl (furnstahl.1@osu.edu)."
   ]
  },
  {
   "cell_type": "markdown",
   "metadata": {},
   "source": [
    "For a pendulum, the Lagrangian is\n",
    "\n",
    "$\\begin{align}\n",
    "  \\mathcal{L} = \\frac12 m L^2 \\dot\\phi^2 - mgL(1 - \\cos\\phi)\n",
    "\\end{align}$\n",
    "\n",
    "which tells us that the generalized momentum is\n",
    "\n",
    "$\\begin{align}\n",
    "   \\frac{\\partial\\mathcal{L}}{\\partial \\dot\\phi} = m L^2 \\dot\\phi \\equiv p_\\phi\n",
    "   \\;.\n",
    "\\end{align}$\n",
    "\n",
    "We can invert this equation to find $\\dot\\phi = p_\\phi / m L^2$.\n",
    "Constructing the Hamiltonian by Legendre transformation we find \n",
    "\n",
    "$\\begin{align}\n",
    "  \\mathcal{H} &= \\dot\\phi p_\\phi  - \\mathcal{L} \\\\\n",
    "              &= \\frac{p_\\phi^2}{m L^2} - \\frac12 m L^2 \\dot\\phi^2 + mgL(1 - \\cos\\phi) \\\\\n",
    "              &= \\frac{p_\\phi^2}{2 m L^2} + mgL(1 - \\cos\\phi)\n",
    "              \\;.\n",
    "\\end{align}$\n",
    "\n",
    "Thus $\\mathcal{H}$ is simply $T + V$.  Hamilton's equations are\n",
    "\n",
    "$\\begin{align}\n",
    "  \\dot\\phi &= \\frac{\\partial\\mathcal{H}}{\\partial p_\\phi} = \\frac{p_\\phi}{m L^2} \\\\\n",
    "  \\dot p_\\phi &= -\\frac{\\partial\\mathcal{H}}{\\partial \\phi} = -mgL \\sin\\phi \n",
    "  \\;.\n",
    "\\end{align}$"
   ]
  },
  {
   "cell_type": "markdown",
   "metadata": {},
   "source": [
    "A consequence of Liouville's theorem is that if we consider a region in phase space as a set of initial conditions and then evolve each point in that space, the region can change shape but its volume will not change.\n",
    "\n",
    "We will try this out for the simple pendulum by first picking an area (e.g., a rectangle) in $p_\\phi$ by $\\phi$ and then selecting random points inside of it.  Each of the points is then propagated a time step by Hamilton's equations and plotted again."
   ]
  },
  {
   "cell_type": "code",
   "execution_count": 1,
   "metadata": {},
   "outputs": [],
   "source": [
    "%matplotlib inline"
   ]
  },
  {
   "cell_type": "code",
   "execution_count": 2,
   "metadata": {},
   "outputs": [],
   "source": [
    "import numpy as np\n",
    "from numpy.random import uniform, rand\n",
    "\n",
    "from scipy.integrate import solve_ivp\n",
    "from scipy.spatial import ConvexHull\n",
    "\n",
    "import matplotlib.pyplot as plt"
   ]
  },
  {
   "cell_type": "code",
   "execution_count": 3,
   "metadata": {},
   "outputs": [],
   "source": [
    "# The dpi (dots-per-inch) setting will affect the resolution and how large\n",
    "#  the plots appear on screen and printed.  So you may want/need to adjust \n",
    "#  the figsize when creating the figure.\n",
    "plt.rcParams['figure.dpi'] = 100.    # this is the default for notebook\n",
    "\n",
    "# Change the common font size (smaller when higher dpi)\n",
    "font_size = 10\n",
    "plt.rcParams.update({'font.size': font_size})"
   ]
  },
  {
   "cell_type": "markdown",
   "metadata": {},
   "source": [
    "## Pendulum class and utility functions"
   ]
  },
  {
   "cell_type": "code",
   "execution_count": 4,
   "metadata": {},
   "outputs": [],
   "source": [
    "class HamiltonianPendulum():\n",
    "    \"\"\"\n",
    "    Pendulum class implements the parameters and Hamilton's equations for \n",
    "     a simple pendulum (no driving or damping).\n",
    "     \n",
    "    Parameters\n",
    "    ----------\n",
    "    omega_0 : float\n",
    "        natural frequency of the pendulum (\\sqrt{g/l} where l is the \n",
    "        pendulum length) \n",
    "    mass : float\n",
    "        mass of pendulum\n",
    "\n",
    "    Methods\n",
    "    -------\n",
    "    dy_dt(t, y)\n",
    "        Returns the right side of the differential equation in vector y, \n",
    "        given time t and the corresponding value of y.\n",
    "    \"\"\"\n",
    "    def __init__(self, L=1., mass=1., g=1.\n",
    "                ):\n",
    "        self.L = L\n",
    "        self.g = g\n",
    "        self.omega_0 = np.sqrt(g/L)\n",
    "        self.mass = mass\n",
    "    \n",
    "    def dy_dt(self, t, y):\n",
    "        \"\"\"\n",
    "        This function returns the right-hand sides of Hamilton's eqs\n",
    "        [dq/dt dp/dt] --> [dphi/dt dp_phi/dt]\n",
    "        \n",
    "        Parameters\n",
    "        ----------\n",
    "        t : float\n",
    "            time \n",
    "        y : float\n",
    "            A 2-component vector with y[0] = phi(t) and y[1] = p_phi(t)\n",
    "            \n",
    "        Returns\n",
    "        -------\n",
    "        \n",
    "        \"\"\"\n",
    "        return [y[1] / (self.mass * self.L**2), \n",
    "                -self.mass * self.g * self.L * np.sin(y[0]) \n",
    "               ]\n",
    "    \n",
    "    \n",
    "    def solve_ode(self, t_pts, q_0, p_0, \n",
    "                  abserr=1.0e-10, relerr=1.0e-10):\n",
    "        \"\"\"\n",
    "        Solve the ODE given initial conditions.\n",
    "        Specify smaller abserr and relerr to get more precision.\n",
    "        \"\"\"\n",
    "        y = [q_0, p_0] \n",
    "        solution = solve_ivp(self.dy_dt, (t_pts[0], t_pts[-1]), \n",
    "                             y, t_eval=t_pts, \n",
    "                             atol=abserr, rtol=relerr)\n",
    "        q, p = solution.y\n",
    "\n",
    "        return q, p"
   ]
  },
  {
   "cell_type": "code",
   "execution_count": 5,
   "metadata": {},
   "outputs": [],
   "source": [
    "def plot_y_vs_x(x, y, axis_labels=None, label=None, title=None, \n",
    "                color=None, linestyle=None, semilogy=False, loglog=False,\n",
    "                ax=None):\n",
    "    \"\"\"\n",
    "    Generic plotting function: return a figure axis with a plot of y vs. x,\n",
    "    with line color and style, title, axis labels, and line label\n",
    "    \"\"\"\n",
    "    if ax is None:        # if the axis object doesn't exist, make one\n",
    "        ax = plt.gca()\n",
    "\n",
    "    if (semilogy):\n",
    "        line, = ax.semilogy(x, y, label=label, \n",
    "                            color=color, linestyle=linestyle)\n",
    "    elif (loglog):\n",
    "        line, = ax.loglog(x, y, label=label, \n",
    "                          color=color, linestyle=linestyle)\n",
    "    else:\n",
    "        line, = ax.plot(x, y, label=label, \n",
    "                    color=color, linestyle=linestyle)\n",
    "\n",
    "    if label is not None:    # if a label if passed, show the legend\n",
    "        ax.legend()\n",
    "    if title is not None:    # set a title if one if passed\n",
    "        ax.set_title(title)\n",
    "    if axis_labels is not None:  # set x-axis and y-axis labels if passed  \n",
    "        ax.set_xlabel(axis_labels[0])\n",
    "        ax.set_ylabel(axis_labels[1])\n",
    "\n",
    "    return ax, line"
   ]
  },
  {
   "cell_type": "code",
   "execution_count": 6,
   "metadata": {},
   "outputs": [],
   "source": [
    "def start_stop_indices(t_pts, plot_start, plot_stop):\n",
    "    start_index = (np.fabs(t_pts-plot_start)).argmin()  # index in t_pts array \n",
    "    stop_index = (np.fabs(t_pts-plot_stop)).argmin()  # index in t_pts array \n",
    "    return start_index, stop_index"
   ]
  },
  {
   "cell_type": "code",
   "execution_count": null,
   "metadata": {},
   "outputs": [],
   "source": []
  },
  {
   "cell_type": "markdown",
   "metadata": {},
   "source": [
    "## Make Liouville theorem visualization"
   ]
  },
  {
   "cell_type": "code",
   "execution_count": 7,
   "metadata": {
    "scrolled": false
   },
   "outputs": [],
   "source": [
    "# Labels for individual plot axes\n",
    "phi_vs_time_labels = (r'$t$', r'$\\phi(t)$')\n",
    "p_phi_vs_time_labels = (r'$t$', r'$p_\\phi(t)$')\n",
    "phase_space_labels = (r'$\\phi$', r'$p_\\phi$')\n",
    "\n",
    "L = 1.\n",
    "g = 1.\n",
    "mass = 1.\n",
    "\n",
    "# Instantiate a pendulum \n",
    "p1 = HamiltonianPendulum(L=L, g=g, mass=mass)\n"
   ]
  },
  {
   "cell_type": "code",
   "execution_count": 8,
   "metadata": {},
   "outputs": [
    {
     "data": {
      "image/png": "[encoded data removed]",
      "text/plain": [
       "<Figure size 600x400 with 1 Axes>"
      ]
     },
     "metadata": {
      "needs_background": "light"
     },
     "output_type": "display_data"
    }
   ],
   "source": [
    "# Generate initial conditions\n",
    "num_samples = 300\n",
    "phi_and_p_low = [1.5, 0.0]\n",
    "phi_and_p_high = [2.0, 0.5]\n",
    "out = uniform(low=phi_and_p_low, high=phi_and_p_high, size=(num_samples,2))\n",
    "\n",
    "fig = plt.figure()\n",
    "ax = fig.add_subplot(1,1,1)\n",
    "ax.plot(out[:, 0], out[:, 1], '.')\n",
    "ax.set_aspect(1)\n",
    "ax.set_xlabel(r'$\\phi$')\n",
    "ax.set_ylabel(r'$p_\\phi$')\n",
    "ax.set_xlim(-3., 3.)\n",
    "ax.set_ylim(-2., 2.)\n",
    "\n",
    "fig.tight_layout()"
   ]
  },
  {
   "cell_type": "code",
   "execution_count": 9,
   "metadata": {},
   "outputs": [
    {
     "data": {
      "image/png": "[encoded data removed]",
      "text/plain": [
       "<Figure size 600x400 with 1 Axes>"
      ]
     },
     "metadata": {
      "needs_background": "light"
     },
     "output_type": "display_data"
    }
   ],
   "source": [
    "fig = plt.figure()\n",
    "ax = fig.add_subplot(1,1,1)\n",
    "\n",
    "for phi, p in out:\n",
    "    ax.plot(phi, p, '.')   \n",
    "\n",
    "ax.set_xlabel(r'$\\phi$')\n",
    "ax.set_ylabel(r'$p_\\phi$')\n",
    "ax.set_xlim(-3., 3.)\n",
    "ax.set_ylim(-2., 2.)\n",
    "ax.set_aspect(1)\n",
    "\n",
    "fig.tight_layout()"
   ]
  },
  {
   "cell_type": "code",
   "execution_count": null,
   "metadata": {
    "scrolled": false
   },
   "outputs": [],
   "source": [
    "# Common plotting time (generate the full time then use slices)\n",
    "delta_t = 0.5\n",
    "t_start = 0.\n",
    "num_t = 15\n",
    "t_end = t_start + (num_t - 1) * delta_t  \n",
    "\n",
    "t_pts = np.arange(t_start, t_end+delta_t, delta_t)  \n",
    "\n",
    "# start the plot!\n",
    "#fig = plt.figure(figsize=(15,5.*num_t/3.))\n",
    "fig = plt.figure(figsize=(15,5.*num_t/3.))\n",
    "overall_title = 'Liouville theorem visualization with pendulum'\n",
    "\n",
    "plot_num = 0\n",
    "all_orbits = []\n",
    "for phi_0, p_phi_0 in out:\n",
    "    phi, p_phi = p1.solve_ode(t_pts, phi_0, p_phi_0)\n",
    "    all_orbits.append([phi, p_phi])\n",
    "        \n",
    "for i in np.arange(num_t):\n",
    "    ax_c = fig.add_subplot(int(num_t/3), 3, i+1)\n",
    "    ax_c.set_title(rf'$t = {t_pts[i]:.1f}$')\n",
    "    for j in np.arange(num_samples):\n",
    "        phi_now, p_phi_now = all_orbits[j]\n",
    "        ax_c.plot(phi_now[i], p_phi_now[i], '.')\n",
    "        ax_c.set_xlim(-3., 3.)\n",
    "        ax_c.set_ylim(-2., 2.)    \n",
    "\n",
    "fig.tight_layout()\n",
    "#fig.suptitle(overall_title, va='top')\n",
    "\n",
    "fig.savefig('Liouville_test.png', bbox_inches='tight')  "
   ]
  },
  {
   "cell_type": "code",
   "execution_count": null,
   "metadata": {},
   "outputs": [],
   "source": []
  }
 ],
 "metadata": {
  "celltoolbar": "Slideshow",
  "kernelspec": {
   "display_name": "Python 3 (ipykernel)",
   "language": "python",
   "name": "python3"
  },
  "language_info": {
   "codemirror_mode": {
    "name": "ipython",
    "version": 3
   },
   "file_extension": ".py",
   "mimetype": "text/x-python",
   "name": "python",
   "nbconvert_exporter": "python",
   "pygments_lexer": "ipython3",
   "version": "3.9.9"
  }
 },
 "nbformat": 4,
 "nbformat_minor": 2
}
