{
 "cells": [
  {
   "cell_type": "markdown",
   "metadata": {},
   "source": [
    "# Fourier coefficient intuition\n",
    "\n",
    "last revised: 18-Jan-2019 by Dick Furnstahl [furnstahl.1@osu.edu]\n"
   ]
  },
  {
   "cell_type": "markdown",
   "metadata": {},
   "source": [
    "Make plots of products of sines and cosines to gain intuition on how Fourier coefficients are projected out."
   ]
  },
  {
   "cell_type": "markdown",
   "metadata": {},
   "source": [
    "The Fourier expansion of a periodic function $f(t+\\tau) = f(t)$ takes the form\n",
    "\n",
    "$\\begin{align}\n",
    "  f(t) = \\sum_{n=0} a_n \\cos(n\\omega t) + b_n \\sin(n\\omega t)\n",
    "\\end{align}$\n",
    "\n",
    "where $\\omega = 2\\pi/\\tau$.\n",
    "The coefficients are found from integrals of cosines and sines over $f(t)$:\n",
    "\n",
    "$\\begin{align}\n",
    "  a_0 = \\frac{1}{\\tau} \\int_{-\\tau/2}^{\\tau/2} f(t)\\, dt  \\qquad\n",
    "  b_0 = 0\n",
    "\\end{align}$\n",
    "\n",
    "$\\begin{align}\n",
    "  a_m = \\frac{2}{\\tau} \\int_{-\\tau/2}^{\\tau/2} \\cos(m\\omega t) f(t)\\, dt  \\qquad\n",
    "  b_m = \\frac{2}{\\tau} \\int_{-\\tau/2}^{\\tau/2} \\sin(m\\omega t) f(t)\\, dt \n",
    "\\end{align}$\n",
    "\n"
   ]
  },
  {
   "cell_type": "code",
   "execution_count": 1,
   "metadata": {},
   "outputs": [],
   "source": [
    "import numpy as np\n",
    "import matplotlib.pyplot as plt\n",
    "from scipy.integrate import quad\n",
    "from ipywidgets import interact\n"
   ]
  },
  {
   "cell_type": "code",
   "execution_count": 2,
   "metadata": {},
   "outputs": [],
   "source": [
    "def Fourier_integrand_plot(n, m):\n",
    "    \"\"\"Plot the integrands of sine and cosines of different orders\"\"\"\n",
    "    tau = 1.\n",
    "    omega = 2.*np.pi / tau\n",
    "    t_pts = np.arange(-tau/2., tau/2., 0.01)\n",
    "    \n",
    "    cos_n_pts = np.cos(n * omega * t_pts)\n",
    "    cos_m_pts = np.cos(m * omega * t_pts)\n",
    "    sin_n_pts = np.sin(n * omega * t_pts)\n",
    "    sin_m_pts = np.sin(m * omega * t_pts)\n",
    "    \n",
    "    fig = plt.figure(figsize=(12,4))\n",
    "    \n",
    "    ax1 = fig.add_subplot(1,3,1)\n",
    "    ax1.plot(t_pts, cos_n_pts*cos_m_pts, color='red')\n",
    "    ax1.plot(t_pts, cos_n_pts, color='blue', linestyle='dashed', alpha=0.5)\n",
    "    ax1.plot(t_pts, cos_m_pts, color='green', linestyle='dotted', alpha=0.5)\n",
    "    ax1.set_ylim(-1.1, 1.1)\n",
    "    ax1.set_title('cosine * cosine')\n",
    "\n",
    "    ax2 = fig.add_subplot(1,3,2)\n",
    "    ax2.plot(t_pts, sin_n_pts*sin_m_pts, color='red')\n",
    "    ax2.plot(t_pts, sin_n_pts, color='blue', linestyle='dashed', alpha=0.5)\n",
    "    ax2.plot(t_pts, sin_m_pts, color='green', linestyle='dotted', alpha=0.5)\n",
    "    ax2.set_ylim(-1.1, 1.1)\n",
    "    ax2.set_title('sine * sine')\n",
    "\n",
    "    ax3 = fig.add_subplot(1,3,3)\n",
    "    ax3.plot(t_pts, cos_n_pts*sin_m_pts, color='red')\n",
    "    ax3.plot(t_pts, cos_n_pts, color='blue', linestyle='dashed', alpha=0.5)\n",
    "    ax3.plot(t_pts, sin_m_pts, color='green', linestyle='dotted', alpha=0.8)\n",
    "    ax3.set_ylim(-1.1, 1.1)\n",
    "    ax3.set_title('cosine * sine')\n",
    "    "
   ]
  },
  {
   "cell_type": "markdown",
   "metadata": {},
   "source": [
    "The plots below show the products of cosines and sines"
   ]
  },
  {
   "cell_type": "code",
   "execution_count": 3,
   "metadata": {},
   "outputs": [
    {
     "data": {
      "application/vnd.jupyter.widget-view+json": {
       "model_id": "a7b8da32f0dd4d698bab46d12d2d2311",
       "version_major": 2,
       "version_minor": 0
      },
      "text/plain": [
       "interactive(children=(IntSlider(value=2, description='n', max=4), IntSlider(value=2, description='m', max=4), …"
      ]
     },
     "metadata": {},
     "output_type": "display_data"
    }
   ],
   "source": [
    "interact(Fourier_integrand_plot, m=(0,4), n=(0,4));"
   ]
  },
  {
   "cell_type": "code",
   "execution_count": null,
   "metadata": {},
   "outputs": [],
   "source": []
  }
 ],
 "metadata": {
  "kernelspec": {
   "display_name": "Python 3",
   "language": "python",
   "name": "python3"
  },
  "language_info": {
   "codemirror_mode": {
    "name": "ipython",
    "version": 3
   },
   "file_extension": ".py",
   "mimetype": "text/x-python",
   "name": "python",
   "nbconvert_exporter": "python",
   "pygments_lexer": "ipython3",
   "version": "3.8.3"
  }
 },
 "nbformat": 4,
 "nbformat_minor": 2
}
