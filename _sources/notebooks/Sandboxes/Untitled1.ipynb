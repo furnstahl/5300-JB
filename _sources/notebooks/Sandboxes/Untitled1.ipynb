{
 "cells": [
  {
   "cell_type": "code",
   "execution_count": 4,
   "id": "85f8a551",
   "metadata": {},
   "outputs": [],
   "source": [
    "import numpy as np\n",
    "from numpy.random import uniform, rand\n",
    "\n",
    "from scipy.integrate import solve_ivp\n",
    "from scipy.spatial import ConvexHull\n",
    "from scipy.linalg import orth\n",
    "from scipy.linalg import eigh\n",
    "\n",
    "import matplotlib.pyplot as plt"
   ]
  },
  {
   "cell_type": "code",
   "execution_count": 2,
   "id": "fe2fee42",
   "metadata": {},
   "outputs": [],
   "source": [
    "U = np.random.uniform(low=0, high=1.0, size=(10, 10))\n",
    "H_test = np.tril(U) + np.tril(U, -1).T"
   ]
  },
  {
   "cell_type": "code",
   "execution_count": 6,
   "id": "d2d53bec",
   "metadata": {},
   "outputs": [],
   "source": [
    "eigvals, eigvecs = eigh(H_test)"
   ]
  },
  {
   "cell_type": "code",
   "execution_count": 9,
   "id": "23834c56",
   "metadata": {},
   "outputs": [
    {
     "name": "stdout",
     "output_type": "stream",
     "text": [
      "[-1.46686018 -0.88669198 -0.58359887  0.0524504   0.26073821  0.41243218\n",
      "  0.76306069  0.88804668  1.30830076  5.47713352]\n"
     ]
    }
   ],
   "source": [
    "print(eigvals)"
   ]
  },
  {
   "cell_type": "code",
   "execution_count": 10,
   "id": "9f39ddd7",
   "metadata": {},
   "outputs": [],
   "source": [
    "X = np.random.uniform(low=0, high=1.0, size=(10, 10))"
   ]
  },
  {
   "cell_type": "code",
   "execution_count": 11,
   "id": "b84af0f2",
   "metadata": {},
   "outputs": [],
   "source": [
    "eigvals2, eigvecs2 = eigh(X.T @ H_test @ X)"
   ]
  },
  {
   "cell_type": "code",
   "execution_count": 12,
   "id": "1170a697",
   "metadata": {},
   "outputs": [
    {
     "name": "stdout",
     "output_type": "stream",
     "text": [
      "[-6.95903905e-01 -3.41139641e-01 -1.63205339e-01  3.58249938e-04\n",
      "  1.71837009e-02  1.54439602e-01  2.34322035e-01  6.33694975e-01\n",
      "  8.27081613e-01  1.24003572e+02]\n"
     ]
    }
   ],
   "source": [
    "print(eigvals2)"
   ]
  },
  {
   "cell_type": "code",
   "execution_count": null,
   "id": "75adf1ff",
   "metadata": {},
   "outputs": [],
   "source": []
  }
 ],
 "metadata": {
  "kernelspec": {
   "display_name": "Python [conda env:5300-env] *",
   "language": "python",
   "name": "conda-env-5300-env-py"
  },
  "language_info": {
   "codemirror_mode": {
    "name": "ipython",
    "version": 3
   },
   "file_extension": ".py",
   "mimetype": "text/x-python",
   "name": "python",
   "nbconvert_exporter": "python",
   "pygments_lexer": "ipython3",
   "version": "3.9.9"
  }
 },
 "nbformat": 4,
 "nbformat_minor": 5
}
