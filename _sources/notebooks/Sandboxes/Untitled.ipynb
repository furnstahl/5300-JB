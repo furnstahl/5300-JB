{
 "cells": [
  {
   "cell_type": "code",
   "execution_count": 1,
   "id": "c6e2affd",
   "metadata": {},
   "outputs": [],
   "source": [
    "import numpy as np\n",
    "from math import factorial\n",
    "\n",
    "# We'll get our uniform distributions from stats, but there are other ways.\n",
    "import scipy.stats as stats  \n",
    "\n",
    "import matplotlib.pyplot as plt\n",
    "import seaborn; seaborn.set() # for nicer plot formatting"
   ]
  },
  {
   "cell_type": "code",
   "execution_count": 10,
   "id": "9121235d",
   "metadata": {},
   "outputs": [],
   "source": [
    "x = (1,2,3,4)\n",
    "AMO_label = \"AMO\"\n",
    "AMO_votes = (5,0,3,1)\n",
    "Astro_label = \"Astro\"\n",
    "Astro_votes = (2,5,1,2)"
   ]
  },
  {
   "cell_type": "code",
   "execution_count": 12,
   "id": "b892a9a1",
   "metadata": {},
   "outputs": [
    {
     "data": {
      "image/png": "[encoded data removed]",
      "text/plain": [
       "<Figure size 720x360 with 1 Axes>"
      ]
     },
     "metadata": {},
     "output_type": "display_data"
    }
   ],
   "source": [
    "fig_1 = plt.figure(figsize=(10,5))\n",
    "ax_1 = fig_1.add_subplot(1,1,1)\n",
    "ax_1.bar(x, AMO_votes, color=\"blue\", label=AMO_label)\n",
    "ax_1.bar(x, Astro_votes, color=\"red\", label=Astro_label)\n",
    "ax_1.legend();\n",
    "\n",
    "fig_1.tight_layout()\n"
   ]
  },
  {
   "cell_type": "code",
   "execution_count": null,
   "id": "1318ce9b",
   "metadata": {},
   "outputs": [],
   "source": []
  }
 ],
 "metadata": {
  "kernelspec": {
   "display_name": "Python [conda env:5300-env] *",
   "language": "python",
   "name": "conda-env-5300-env-py"
  },
  "language_info": {
   "codemirror_mode": {
    "name": "ipython",
    "version": 3
   },
   "file_extension": ".py",
   "mimetype": "text/x-python",
   "name": "python",
   "nbconvert_exporter": "python",
   "pygments_lexer": "ipython3",
   "version": "3.9.9"
  }
 },
 "nbformat": 4,
 "nbformat_minor": 5
}
